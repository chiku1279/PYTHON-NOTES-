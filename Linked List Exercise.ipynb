{
 "cells": [
  {
   "cell_type": "markdown",
   "id": "7a5eb7d2",
   "metadata": {},
   "source": [
    "# All Operations of Singly Linked list"
   ]
  },
  {
   "cell_type": "code",
   "execution_count": 9,
   "id": "1fca1b67",
   "metadata": {},
   "outputs": [
    {
     "name": "stdout",
     "output_type": "stream",
     "text": [
      "120-->10-->"
     ]
    }
   ],
   "source": [
    "#First Create a node having two part data and next data part having value data and initially next is null\n",
    "\n",
    "class Node:            \n",
    "    def __init__(self,data):                    #__init__ is a class constructor / instance of class\n",
    "        self.data=data\n",
    "        self.next=None\n",
    "\n",
    "#create a likedlist having head and tail as nullinitially\n",
    "\n",
    "class Llist:\n",
    "    def __init__(self):\n",
    "        self.head=None\n",
    "        self.tail=None\n",
    "\n",
    "#Create a add method to add elelmts in ll First create a oblect of class Node i,e new . then put the add of head node at \n",
    "#the address/next part of new node (new)  and change the position of heaf which is now the newely inserted node\n",
    "\n",
    "    def add_begin(self,data):\n",
    "        new=Node(data)\n",
    "        new.next=self.head\n",
    "        self.head=new\n",
    "\n",
    "#Add a elemneta at last, first check if the Linkedlist is empty it yes the thn new node is the first node hence assign \n",
    "#new as head otherwise it the have already nodes then check which node.next hase null bcz last node as only null refrence\n",
    "# after that we have to add a new node and the head node take sthe ref of new node\n",
    "\n",
    "\n",
    "    def add_last(self,data):\n",
    "        new=Node(data)\n",
    "        if self.head==None:\n",
    "            self.head=new\n",
    "        else:\n",
    "            while self.head.next!=None:\n",
    "                self.head=self.head.next\n",
    "            self.head.next=new\n",
    "\n",
    "#this is used to Traverse linkedlist if the self.head is None it means Linkedlist is empty else make a loop till the\n",
    "#the self.head is not null and print the data of self.head.data and change the position of self.head- self.head.next\n",
    "\n",
    "    def print_ll(self):\n",
    "        if self.head==None:\n",
    "            print(\"Linked list is empty\")\n",
    "        else:\n",
    "            while self.head!=None:\n",
    "                print(self.head.data,end=\"-->\")\n",
    "                self.head=self.head.next\n",
    "                \n",
    "                \n",
    "#the functon takes an extra argumen x which is used to check after which elemnet we have to insert .Check using while loop \n",
    "#is the self.head is not null then the present node is same as the x then break if not increment self.head to self.head.next\n",
    "#after out of loop we have to check why we come of of loop for self.head is none or for x is not in list if self.head is null\n",
    "# means elemnt not present otherwise make a new node ane put data into the and next of new as ref of previous i.e \n",
    "# self.head.next and update the ref of self.head as new\n",
    "                \n",
    "    \n",
    "    def add_after(self,data,x):\n",
    "        while self.head!=None:\n",
    "            if self.head.data==x:\n",
    "                break\n",
    "            self.head=self.head.next\n",
    "        if self.head ==None:\n",
    "            print(\"Node is not present\")\n",
    "        else:\n",
    "            new=Node(data)\n",
    "            new.next=self.head.next\n",
    "            self.head.next=new\n",
    "    \n",
    "#to add a new node before start or any wher in list at the begiining that means it ts the first node insert as begining\n",
    "#otherwise we have check the prevous node beforre which we have to insert by self.head.next.data==x so we got the previous node\n",
    "#now we can perform same as add_after\n",
    "\n",
    "\n",
    "    def add_before(self,data,x):\n",
    "        if self.head==None:\n",
    "            print(\"Linkedlist is empty\")\n",
    "            return\n",
    "        if self.head.data==x:\n",
    "            new=Node(data)\n",
    "            new.next=self.head\n",
    "            self.head=new\n",
    "            return\n",
    "        else:\n",
    "            while self.head!=None:\n",
    "                if self.head.next.data==x:\n",
    "                    break\n",
    "                self.head=self.head.next\n",
    "            if self.head==None:\n",
    "                print(\"Linked list is empty\")\n",
    "            else:\n",
    "                new=Node(data)\n",
    "                self.head.next=new\n",
    "                new.next=self.head.next\n",
    "\n",
    "#If we want to delte a node first chech wheather a linkeked lit is empty or not if not then simply change the position of\n",
    "#head to head.node to the consecutive next node\n",
    "\n",
    "    def delete_begin(self):\n",
    "        if self.head==None:\n",
    "            print(\"Linked list is empty\")\n",
    "        else:\n",
    "            self.head=self.head.next\n",
    "\n",
    "#if we want to delete from last we have to cheack wheather the linkedl ist is empty or not if not than go \n",
    "#to the previous or last node by checking self.head.next.next as not null then change the ref of that node to none\n",
    "\n",
    "    def delete_last(self):\n",
    "        if self.head==None:\n",
    "            print(\"Linked list i empty\")\n",
    "        else:\n",
    "            while self.head.next.next!=None:\n",
    "                self.head=self.head.next\n",
    "            self.head.next=None\n",
    "\n",
    "#if we want to delete by value first check if the linked list is empty of not if not check wheather the elemnt\n",
    "#who wants is delete is first node or not if yes simply change the head to next otherwise \n",
    "#check the previous of the deleted node then change the address of that to the next of the deleted node\n",
    "\n",
    "\n",
    "    def delete_by_value(self,x):\n",
    "        if self.head==None:\n",
    "            print(\"linked list is empty\")\n",
    "            return\n",
    "        if self.head.data==x:\n",
    "            self.head=self.head.next\n",
    "            return\n",
    "        else:\n",
    "            while self.head.next!=None:\n",
    "                if self.head.next.data==x:\n",
    "                    break\n",
    "                self.head=self.head.next\n",
    "            if self.head.next==None:\n",
    "                print(\"Element is not present\")\n",
    "            else:\n",
    "                self.head.next=self.head.next.next\n",
    "                \n",
    "        \n",
    "l1=Llist()\n",
    "l1.add_begin(10)\n",
    "l1.add_begin(120)\n",
    "l1.print_ll()\n",
    "              "
   ]
  },
  {
   "cell_type": "markdown",
   "id": "09a7ac57",
   "metadata": {},
   "source": [
    "# Find length of linked list"
   ]
  },
  {
   "cell_type": "code",
   "execution_count": 17,
   "id": "f0e3cc4b",
   "metadata": {},
   "outputs": [
    {
     "name": "stdout",
     "output_type": "stream",
     "text": [
      "length of linked list:: 2\n",
      "20-->10-->"
     ]
    }
   ],
   "source": [
    "class Node:            \n",
    "    def __init__(self,data):                    #__init__ is a class constructor / instance of class\n",
    "        self.data=data\n",
    "        self.next=None\n",
    "\n",
    "#create a likedlist having head and tail as nullinitially\n",
    "\n",
    "class Llist:\n",
    "    def __init__(self):\n",
    "        self.head=None\n",
    "        self.tail=None\n",
    "\n",
    "#Create a add method to add elelmts in ll First create a oblect of class Node i,e new . then put the add of head node at \n",
    "#the address/next part of new node (new)  and change the position of heaf which is now the newely inserted node\n",
    "\n",
    "    def add_begin(self,data):\n",
    "        new=Node(data)\n",
    "        new.next=self.head\n",
    "        self.head=new\n",
    "    \n",
    "    def print_ll(self):\n",
    "        if self.head==None:\n",
    "            print(\"Linked list is empty\")\n",
    "        else:\n",
    "            while self.head!=None:\n",
    "                print(self.head.data,end=\"-->\")\n",
    "                self.head=self.head.next\n",
    "    \n",
    "    def length(self):\n",
    "        temp=self.head\n",
    "        c=0\n",
    "        while temp:\n",
    "            c+=1\n",
    "            temp=temp.next\n",
    "        return c\n",
    "\n",
    "l=Llist()\n",
    "l.add_begin(10)\n",
    "l.add_begin(20)\n",
    "print(\"length of linked list::\",l.length())\n",
    "l.print_ll()\n"
   ]
  },
  {
   "cell_type": "markdown",
   "id": "b161c43e",
   "metadata": {},
   "source": [
    "# To get the data of given index"
   ]
  },
  {
   "cell_type": "code",
   "execution_count": 8,
   "id": "796a020e",
   "metadata": {},
   "outputs": [
    {
     "name": "stdout",
     "output_type": "stream",
     "text": [
      "20-->10-->\n",
      "\n",
      "Element present at index 0 is None\n"
     ]
    }
   ],
   "source": [
    "class Node:            \n",
    "    def __init__(self,data):                    #__init__ is a class constructor / instance of class\n",
    "        self.data=data\n",
    "        self.next=None\n",
    "\n",
    "#create a likedlist having head and tail as nullinitially\n",
    "\n",
    "class Llist:\n",
    "    def __init__(self):\n",
    "        self.head=None\n",
    "        self.tail=None\n",
    "\n",
    "#Create a add method to add elelmts in ll First create a oblect of class Node i,e new . then put the add of head node at \n",
    "#the address/next part of new node (new)  and change the position of heaf which is now the newely inserted node\n",
    "\n",
    "    def add_begin(self,data):\n",
    "        new=Node(data)\n",
    "        new.next=self.head\n",
    "        self.head=new\n",
    "    \n",
    "    def print_ll(self):\n",
    "        if self.head==None:\n",
    "            print(\"Linked list is empty\")\n",
    "        else:\n",
    "            while self.head!=None:\n",
    "                print(self.head.data,end=\"-->\")\n",
    "                self.head=self.head.next\n",
    "    \n",
    "    def search(self,target):\n",
    "        curr=self.head\n",
    "        while curr!=None:\n",
    "            if curr.data==target:\n",
    "                return True\n",
    "            curr=curr.next\n",
    "        return False\n",
    "    \n",
    "    def get_data(self,x):\n",
    "        curr=self.head\n",
    "        c=0\n",
    "        while curr:\n",
    "            if c==x:\n",
    "                return curr.data\n",
    "            c+=1\n",
    "            curr==curr.next\n",
    "            \n",
    "            \n",
    "\n",
    "l=Llist()\n",
    "l.add_begin(10)\n",
    "l.add_begin(20)\n",
    "l.print_ll()\n",
    "print(\"\\n\")\n",
    "n=0\n",
    "print(\"Element present at index 0 is\",l.get_data(n))"
   ]
  },
  {
   "cell_type": "markdown",
   "id": "e533f1a7",
   "metadata": {},
   "source": [
    "# print nth element from last"
   ]
  },
  {
   "cell_type": "code",
   "execution_count": null,
   "id": "a3f1aaaa",
   "metadata": {},
   "outputs": [],
   "source": [
    " def get_nt_last(self,x):\n",
    "        curr=self.head\n",
    "        c=0\n",
    "        while curr:\n",
    "            curr=curr.next\n",
    "            c+=1\n",
    "        if x>c:\n",
    "            print(\"Elent is not present\")\n",
    "        else:\n",
    "            curr=self.head\n",
    "            for i in range(0,c-x):\n",
    "                curr=curr.next\n",
    "            print(curr.data)"
   ]
  },
  {
   "cell_type": "markdown",
   "id": "04eb676b",
   "metadata": {},
   "source": [
    "# Print the middle Element"
   ]
  },
  {
   "cell_type": "code",
   "execution_count": null,
   "id": "526eeb01",
   "metadata": {},
   "outputs": [],
   "source": [
    "def middle(self):\n",
    "        curr=self.head\n",
    "        c=0\n",
    "        while curr:\n",
    "            c+=1\n",
    "            curr=curr.next\n",
    "        curr=self.head\n",
    "        for i in range(0,c//2):\n",
    "            curr=curr.next\n",
    "        print(curr.data)\n",
    "            "
   ]
  },
  {
   "cell_type": "markdown",
   "id": "c88f75ab",
   "metadata": {},
   "source": [
    "# Occurance of a give element"
   ]
  },
  {
   "cell_type": "code",
   "execution_count": null,
   "id": "064a87db",
   "metadata": {},
   "outputs": [],
   "source": [
    "def count(self,x):\n",
    "        curr=self.head\n",
    "        c=0\n",
    "        while curr:\n",
    "            c+=1\n",
    "            curr=curr.next\n",
    "        curr=self.head\n",
    "        a=1\n",
    "        for i in range(0,c):\n",
    "            if curr.data==x:\n",
    "                a+=1\n",
    "                curr=curr.next\n",
    "        print(a)"
   ]
  },
  {
   "cell_type": "markdown",
   "id": "c1b9e852",
   "metadata": {},
   "source": [
    "# Reverse a Linked list"
   ]
  },
  {
   "cell_type": "code",
   "execution_count": null,
   "id": "d706762e",
   "metadata": {},
   "outputs": [],
   "source": [
    "def reverseList(self, head):\n",
    "        pre=None\n",
    "        curr=head\n",
    "        while curr!=None:\n",
    "            nxt=curr.next\n",
    "            curr.next=pre\n",
    "            pre=curr\n",
    "            curr=nxt\n",
    "        head=pre\n",
    "        return head"
   ]
  },
  {
   "cell_type": "markdown",
   "id": "30938d4d",
   "metadata": {},
   "source": [
    "# Remove Dublicate node from  linkedlist"
   ]
  },
  {
   "cell_type": "code",
   "execution_count": null,
   "id": "e960637c",
   "metadata": {},
   "outputs": [],
   "source": [
    "def removeDuplicates(head):\n",
    "    curr=head\n",
    "    if curr==None:\n",
    "        return\n",
    "    while curr.next!=None:\n",
    "        if curr.data==curr.next.data:\n",
    "            new=curr.next.next\n",
    "            curr.next=None\n",
    "            curr.next=new\n",
    "        else:\n",
    "            curr=curr.next\n",
    "    return head"
   ]
  },
  {
   "cell_type": "markdown",
   "id": "880acc1d",
   "metadata": {},
   "source": [
    "# Function to check if a singly linked list is palindrome"
   ]
  },
  {
   "cell_type": "code",
   "execution_count": null,
   "id": "767e6c76",
   "metadata": {},
   "outputs": [],
   "source": []
  },
  {
   "cell_type": "markdown",
   "id": "312ed13a",
   "metadata": {},
   "source": [
    "# Move last element to front of a given Linked List"
   ]
  },
  {
   "cell_type": "code",
   "execution_count": 19,
   "id": "b9d0d5e8",
   "metadata": {},
   "outputs": [
    {
     "name": "stdout",
     "output_type": "stream",
     "text": [
      "10-->30-->20-->"
     ]
    }
   ],
   "source": [
    "class Node:\n",
    "    def __init__(self,data):\n",
    "        self.data=data\n",
    "        self.next=None\n",
    "\n",
    "class Linked:\n",
    "    def __init__(self):\n",
    "        self.head=None\n",
    "    \n",
    "    def add(self,data):\n",
    "        new=Node(data)\n",
    "        new.next=self.head\n",
    "        self.head=new\n",
    "    \n",
    "    def print_ll(self):\n",
    "        if self.head==None:\n",
    "            print(\"LL is empty\")\n",
    "        else:\n",
    "            while self.head:\n",
    "                print(self.head.data,end=\"-->\")\n",
    "                self.head=self.head.next\n",
    "        \n",
    "    def last(self):\n",
    "        curr=self.head             #To maintain the traCK the second last node SLAST\n",
    "        slast=None\n",
    "        if curr==None and curr.next==None:       #To check if the list is not empty and not only one element\n",
    "            return\n",
    "        while curr and curr.next:               # Iterate till the end to get the last and second last node\n",
    "            slast=curr\n",
    "            curr=curr.next\n",
    "        slast.next=None\n",
    "        curr.next=self.head             # Make the last node as the first Node\n",
    "        self.head=curr\n",
    "            \n",
    "l=Linked()\n",
    "l.add(10)\n",
    "l.add(20)\n",
    "l.add(30)\n",
    "l.last()\n",
    "\n",
    "l.print_ll()\n",
    "\n"
   ]
  },
  {
   "cell_type": "markdown",
   "id": "74bcb575",
   "metadata": {},
   "source": [
    "# Rotate linkedlist  by n times"
   ]
  },
  {
   "cell_type": "code",
   "execution_count": null,
   "id": "f3514e70",
   "metadata": {},
   "outputs": [],
   "source": [
    "def rotateRight(self, head: Optional[ListNode], k: int) -> Optional[ListNode]:\n",
    "        if not head:\n",
    "            return head\n",
    "        curr=head\n",
    "        l=1\n",
    "        while curr.next:\n",
    "            l+=1\n",
    "            curr=curr.next\n",
    "        curr.next=head\n",
    "        k=l-(k%l)\n",
    "        while k>0:\n",
    "            curr=curr.next\n",
    "            k-=1\n",
    "        new=curr.next\n",
    "        curr.next=None\n",
    "        return new"
   ]
  }
 ],
 "metadata": {
  "kernelspec": {
   "display_name": "Python 3",
   "language": "python",
   "name": "python3"
  },
  "language_info": {
   "codemirror_mode": {
    "name": "ipython",
    "version": 3
   },
   "file_extension": ".py",
   "mimetype": "text/x-python",
   "name": "python",
   "nbconvert_exporter": "python",
   "pygments_lexer": "ipython3",
   "version": "3.8.8"
  }
 },
 "nbformat": 4,
 "nbformat_minor": 5
}
