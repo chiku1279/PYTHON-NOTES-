{
 "cells": [
  {
   "cell_type": "markdown",
   "id": "dcdc940c",
   "metadata": {},
   "source": [
    "# List is a Built in Data Structure in Python it hols the ordered collection of items"
   ]
  },
  {
   "cell_type": "markdown",
   "id": "14c18af9",
   "metadata": {},
   "source": [
    "# List is Different from array :\n",
    "    In list we can store different type of data type in a single list \n",
    "    \n",
    "    Ex- l=[1,2,\"chiku\",\"a\"]"
   ]
  },
  {
   "cell_type": "code",
   "execution_count": 110,
   "id": "63480a07",
   "metadata": {},
   "outputs": [
    {
     "name": "stdout",
     "output_type": "stream",
     "text": [
      "['1' '2' '3' '4' '5' 'a']\n",
      "[1, 2, 3, 4, 5, 'a']\n",
      "[0.5 1.  1.5 2.  2.5]\n"
     ]
    },
    {
     "ename": "TypeError",
     "evalue": "unsupported operand type(s) for /: 'list' and 'int'",
     "output_type": "error",
     "traceback": [
      "\u001b[1;31m---------------------------------------------------------------------------\u001b[0m",
      "\u001b[1;31mTypeError\u001b[0m                                 Traceback (most recent call last)",
      "\u001b[1;32m<ipython-input-110-3a282cee48b4>\u001b[0m in \u001b[0;36m<module>\u001b[1;34m\u001b[0m\n\u001b[0;32m      7\u001b[0m \u001b[0mlist\u001b[0m\u001b[1;33m=\u001b[0m\u001b[1;33m[\u001b[0m\u001b[1;36m1\u001b[0m\u001b[1;33m,\u001b[0m\u001b[1;36m2\u001b[0m\u001b[1;33m,\u001b[0m\u001b[1;36m3\u001b[0m\u001b[1;33m,\u001b[0m\u001b[1;36m4\u001b[0m\u001b[1;33m,\u001b[0m\u001b[1;36m5\u001b[0m\u001b[1;33m]\u001b[0m\u001b[1;33m\u001b[0m\u001b[1;33m\u001b[0m\u001b[0m\n\u001b[0;32m      8\u001b[0m \u001b[0mprint\u001b[0m\u001b[1;33m(\u001b[0m\u001b[0marr\u001b[0m\u001b[1;33m/\u001b[0m\u001b[1;36m2\u001b[0m\u001b[1;33m)\u001b[0m                 \u001b[1;31m#array can be do Arithmatic operation but list do not\u001b[0m\u001b[1;33m\u001b[0m\u001b[1;33m\u001b[0m\u001b[0m\n\u001b[1;32m----> 9\u001b[1;33m \u001b[0mprint\u001b[0m\u001b[1;33m(\u001b[0m\u001b[0mlist\u001b[0m\u001b[1;33m/\u001b[0m\u001b[1;36m2\u001b[0m\u001b[1;33m)\u001b[0m\u001b[1;33m\u001b[0m\u001b[1;33m\u001b[0m\u001b[0m\n\u001b[0m",
      "\u001b[1;31mTypeError\u001b[0m: unsupported operand type(s) for /: 'list' and 'int'"
     ]
    }
   ],
   "source": [
    "import numpy as np\n",
    "arr=np.array([1,2,3,4,5,'a'])         #change array of int to char ' '\n",
    "list=[1,2,3,4,5,'a']\n",
    "print(arr)\n",
    "print(list)\n",
    "arr=np.array([1,2,3,4,5])\n",
    "list=[1,2,3,4,5]\n",
    "print(arr/2)                 #array can be do Arithmatic operation but list do not\n",
    "print(list/2)"
   ]
  },
  {
   "cell_type": "markdown",
   "id": "d39ef02c",
   "metadata": {},
   "source": [
    "# Creating Different types of list"
   ]
  },
  {
   "cell_type": "code",
   "execution_count": 5,
   "id": "54e4e22c",
   "metadata": {},
   "outputs": [
    {
     "name": "stdout",
     "output_type": "stream",
     "text": [
      "INTEGER LIST : [1, 2, 3, 4, 5]\n",
      "STRING LIST : ['chiku', 'singh', 'assd']\n",
      "MIX LIST : [1, 12, 1.2, 4, 5, 'chiku', 'singh']\n",
      "NESTED LIST : [1, 1.3, [2, 3.4, 'chiku'], [12, 'singh']]\n"
     ]
    }
   ],
   "source": [
    "integerList=[1,2,3,4,5]\n",
    "stringList=['chiku','singh','assd']\n",
    "mixList=[1,12,1.2,4,5,'chiku','singh']\n",
    "nestedList=[1,1.3,[2,3.4,'chiku'],[12,'singh']]\n",
    "print(\"INTEGER LIST :\",integerList)\n",
    "print(\"STRING LIST :\",stringList)\n",
    "print(\"MIX LIST :\",mixList)\n",
    "print(\"NESTED LIST :\",nestedList)"
   ]
  },
  {
   "cell_type": "markdown",
   "id": "ef0e54bc",
   "metadata": {},
   "source": [
    "# Accessing a List"
   ]
  },
  {
   "cell_type": "code",
   "execution_count": 16,
   "id": "d5ab6e69",
   "metadata": {},
   "outputs": [
    {
     "name": "stdout",
     "output_type": "stream",
     "text": [
      "2\n"
     ]
    },
    {
     "ename": "IndexError",
     "evalue": "list index out of range",
     "output_type": "error",
     "traceback": [
      "\u001b[1;31m---------------------------------------------------------------------------\u001b[0m",
      "\u001b[1;31mIndexError\u001b[0m                                Traceback (most recent call last)",
      "\u001b[1;32m<ipython-input-16-ef4f5c84f676>\u001b[0m in \u001b[0;36m<module>\u001b[1;34m\u001b[0m\n\u001b[0;32m      1\u001b[0m \u001b[0ml\u001b[0m\u001b[1;33m=\u001b[0m\u001b[1;33m[\u001b[0m\u001b[1;36m1\u001b[0m\u001b[1;33m,\u001b[0m\u001b[1;36m2\u001b[0m\u001b[1;33m,\u001b[0m\u001b[1;36m3\u001b[0m\u001b[1;33m,\u001b[0m\u001b[1;36m6\u001b[0m\u001b[1;33m]\u001b[0m\u001b[1;33m\u001b[0m\u001b[1;33m\u001b[0m\u001b[0m\n\u001b[0;32m      2\u001b[0m \u001b[0mprint\u001b[0m\u001b[1;33m(\u001b[0m\u001b[0ml\u001b[0m\u001b[1;33m[\u001b[0m\u001b[1;36m1\u001b[0m\u001b[1;33m]\u001b[0m\u001b[1;33m)\u001b[0m\u001b[1;33m\u001b[0m\u001b[1;33m\u001b[0m\u001b[0m\n\u001b[1;32m----> 3\u001b[1;33m \u001b[0mprint\u001b[0m\u001b[1;33m(\u001b[0m\u001b[0ml\u001b[0m\u001b[1;33m[\u001b[0m\u001b[1;36m5\u001b[0m\u001b[1;33m]\u001b[0m\u001b[1;33m)\u001b[0m    \u001b[1;31m#it index not present in list Shows an Error  list index out of range\u001b[0m\u001b[1;33m\u001b[0m\u001b[1;33m\u001b[0m\u001b[0m\n\u001b[0m\u001b[0;32m      4\u001b[0m \u001b[0mprint\u001b[0m\u001b[1;33m(\u001b[0m\u001b[0ml\u001b[0m\u001b[1;33m[\u001b[0m\u001b[1;33m-\u001b[0m\u001b[1;36m5\u001b[0m\u001b[1;33m]\u001b[0m\u001b[1;33m)\u001b[0m\u001b[1;33m\u001b[0m\u001b[1;33m\u001b[0m\u001b[0m\n\u001b[0;32m      5\u001b[0m \u001b[1;33m\u001b[0m\u001b[0m\n",
      "\u001b[1;31mIndexError\u001b[0m: list index out of range"
     ]
    }
   ],
   "source": [
    "l=[1,2,3,6]\n",
    "print(l[1])\n",
    "print(l[5])    #it index not present in list Shows an Error  list index out of range\n",
    "print(l[-5])   #it index not present in list Shows an Error  list index out of range\n",
    "\n"
   ]
  },
  {
   "cell_type": "markdown",
   "id": "d402d1b5",
   "metadata": {},
   "source": [
    "# List Comprehension\n",
    "\n",
    "Syntax :- [i for i in range(n)]"
   ]
  },
  {
   "cell_type": "code",
   "execution_count": 18,
   "id": "a901234c",
   "metadata": {},
   "outputs": [
    {
     "name": "stdout",
     "output_type": "stream",
     "text": [
      "[0, 1, 2, 3, 4, 5]\n",
      "[2, 4, 6, 8]\n",
      "[3, 4, 5, 6, 7, 8, 9]\n",
      "[3, 6, 9, 12, 15, 18, 21, 24, 27, 30, 33, 36, 39, 42, 45, 48, 51, 54, 57, 60, 63, 66, 69, 72, 75, 78, 81, 84, 87, 90, 93, 96, 99]\n"
     ]
    }
   ],
   "source": [
    "n=6\n",
    "print([i for i in range(n)])\n",
    "\n",
    "print([i for i in range(1,10) if i%2==0])\n",
    "\n",
    "print([i if i>2 else i+1 for i in range(3,10)])\n",
    "\n"
   ]
  },
  {
   "cell_type": "markdown",
   "id": "a8b6d592",
   "metadata": {},
   "source": [
    "# Traversing a List"
   ]
  },
  {
   "cell_type": "code",
   "execution_count": 17,
   "id": "05f2442b",
   "metadata": {},
   "outputs": [
    {
     "name": "stdout",
     "output_type": "stream",
     "text": [
      "2\n",
      "5\n",
      "6\n",
      "1\n",
      "7\n"
     ]
    }
   ],
   "source": [
    "l=[2,5,6,1,7]\n",
    "for i in l:\n",
    "    print(i)"
   ]
  },
  {
   "cell_type": "markdown",
   "id": "bb10d7aa",
   "metadata": {},
   "source": [
    "# Add Element in a list\n",
    "\n",
    "Insert :- At a Prticular Location (index,Value)\n",
    "\n",
    "Append : At the end of List (value)\n",
    "\n",
    "Extend : Add a List to another old.extend(new)"
   ]
  },
  {
   "cell_type": "code",
   "execution_count": 20,
   "id": "92b7d4c0",
   "metadata": {},
   "outputs": [
    {
     "name": "stdout",
     "output_type": "stream",
     "text": [
      "Insert : [1, 2, 3, 4, 5]\n",
      "Append : [1, 2, 3, 4, 5, 6]\n",
      "Extend : [1, 2, 3, 4, 5, 6, 6, 7, 8]\n"
     ]
    }
   ],
   "source": [
    "#Insert : Add element at a Particular location\n",
    "l=[1,2,3,5]\n",
    "l.insert(3,4)\n",
    "print(\"Insert :\",l)\n",
    "\n",
    "#Append : Add element at the End of list\n",
    "l.append(6)\n",
    "print(\"Append :\",l)\n",
    "\n",
    "#Extend : Add a List to another List\n",
    "l2=[6,7,8]\n",
    "l.extend(l2)\n",
    "print(\"Extend :\",l)"
   ]
  },
  {
   "cell_type": "markdown",
   "id": "f7d2b85e",
   "metadata": {},
   "source": [
    "# Slice Operator"
   ]
  },
  {
   "cell_type": "code",
   "execution_count": 30,
   "id": "1a797ef8",
   "metadata": {},
   "outputs": [
    {
     "name": "stdout",
     "output_type": "stream",
     "text": [
      "[1, 2, 3, 4, 5, 6]\n",
      "[1, 2]\n",
      "[1, 2]\n",
      "[2, 3, 4, 5, 6]\n",
      "[2, 4]\n",
      "[7, 8, 10, 4, 5, 6]\n"
     ]
    }
   ],
   "source": [
    "l=[1,2,3,4,5,6]\n",
    "print(l[:])\n",
    "print(l[0:2])\n",
    "print(l[:2])\n",
    "print(l[1:])\n",
    "print(l[1:5:2])\n",
    "l[0:3]=[7,8,10]                   #Update using slice\n",
    "print(l)"
   ]
  },
  {
   "cell_type": "markdown",
   "id": "4a6d8c99",
   "metadata": {},
   "source": [
    "# Deletion an Element from lIst\n",
    "\n",
    "Pop : Delete at a particular Location (index) or By default last ()\n",
    "\n",
    "Del : Delete the element at particluar index del l[index/range]\n",
    "\n",
    "Remove : Delete a particular value/Element  l.remove(value)"
   ]
  },
  {
   "cell_type": "code",
   "execution_count": 2,
   "id": "684290bf",
   "metadata": {},
   "outputs": [
    {
     "name": "stdout",
     "output_type": "stream",
     "text": [
      "POP Default : [1, 2, 3, 4, 5, 6, 7]\n",
      "POP index [1, 2, 4, 5, 6, 7]\n",
      "Del Index: [1, 4, 5, 6, 7]\n",
      "Range del : [5, 6, 7]\n",
      "Remove [5, 7]\n"
     ]
    }
   ],
   "source": [
    "l=[1,2,3,4,5,6,7,8]\n",
    "l.pop()\n",
    "print(\"POP Default :\",l)\n",
    "l.pop(2)\n",
    "print(\"POP index\",l)\n",
    "\n",
    "del l[1]\n",
    "print(\"Del Index:\",l)\n",
    "del l[0:2]\n",
    "print(\"Range del :\",l)\n",
    "\n",
    "l.remove(6)\n",
    "print(\"Remove\",l)"
   ]
  },
  {
   "cell_type": "code",
   "execution_count": 49,
   "id": "16a7e8e9",
   "metadata": {},
   "outputs": [
    {
     "data": {
      "text/plain": [
       "'Not present'"
      ]
     },
     "execution_count": 49,
     "metadata": {},
     "output_type": "execute_result"
    }
   ],
   "source": [
    "#Linear search\n",
    "\n",
    "l=[1,2,3,4,5,7]\n",
    "def search(l,val):\n",
    "    for i in l:\n",
    "        if i==val:\n",
    "            return l.index(i)\n",
    "    return 'Not present'\n",
    "search(l,9)"
   ]
  },
  {
   "cell_type": "code",
   "execution_count": 50,
   "id": "85273a27",
   "metadata": {},
   "outputs": [
    {
     "name": "stdout",
     "output_type": "stream",
     "text": [
      "1\n"
     ]
    }
   ],
   "source": [
    "#Search target in lis using in operator\n",
    "l=[2,3,4,5,6]\n",
    "if 3 in l:\n",
    "    print(l.index(3))\n",
    "else:\n",
    "    print(\"not present\")"
   ]
  },
  {
   "cell_type": "markdown",
   "id": "5c5b5df0",
   "metadata": {},
   "source": [
    "# List operation\n",
    "\n",
    "Concatination  +\n",
    "\n",
    "Star  *\n",
    "\n",
    "Length len()\n",
    "\n",
    "Maximum in a list max() , min()\n",
    "\n",
    "addition of list sum()"
   ]
  },
  {
   "cell_type": "code",
   "execution_count": 59,
   "id": "ac4a4e74",
   "metadata": {},
   "outputs": [
    {
     "name": "stdout",
     "output_type": "stream",
     "text": [
      "Concatination : [1, 2, 3, 4, 5, 6]\n",
      "Star/multiply : [1, 2, 3, 1, 2, 3]\n",
      "Lenght : 3\n",
      "Maximum : 3\n",
      "Minimum : 1\n",
      "Sum : 6\n"
     ]
    }
   ],
   "source": [
    "l=[1,2,3]\n",
    "l2=[4,5,6]\n",
    "print(\"Concatination :\",l+l2)\n",
    "print(\"Star/multiply :\",l*2)\n",
    "print(\"Lenght :\",len(l))\n",
    "print(\"Maximum :\",max(l))\n",
    "print(\"Minimum :\",min(l))\n",
    "print(\"Sum :\",sum(l))"
   ]
  },
  {
   "cell_type": "markdown",
   "id": "6738a994",
   "metadata": {},
   "source": [
    "# String to list \n"
   ]
  },
  {
   "cell_type": "code",
   "execution_count": 82,
   "id": "c8877982",
   "metadata": {},
   "outputs": [
    {
     "name": "stdout",
     "output_type": "stream",
     "text": [
      "['c', 'h', 'i', 'k', 'u']\n",
      "['chiku', 'singh', 'thakur']\n",
      "['sudhanshu', 'singh', 'thakur']\n"
     ]
    }
   ],
   "source": [
    "a='chiku'\n",
    "print(list(a))\n",
    "b='chiku singh thakur'\n",
    "print(b.split())\n",
    "c='sudhanshu-singh-thakur'\n",
    "delimeter='-'                               #used to remove the char expect space\n",
    "print(c.split(delimeter))"
   ]
  },
  {
   "cell_type": "code",
   "execution_count": 10,
   "id": "5371b012",
   "metadata": {},
   "outputs": [
    {
     "name": "stdout",
     "output_type": "stream",
     "text": [
      "sudhnau-singh\n"
     ]
    }
   ],
   "source": [
    "a='sudhnau singh'\n",
    "a=a.split()\n",
    "b='-'.join(a)\n",
    "print(b)"
   ]
  },
  {
   "cell_type": "markdown",
   "id": "c79ba8c2",
   "metadata": {},
   "source": [
    "# List to String     using join() Function"
   ]
  },
  {
   "cell_type": "code",
   "execution_count": 83,
   "id": "b44b3e92",
   "metadata": {},
   "outputs": [
    {
     "name": "stdout",
     "output_type": "stream",
     "text": [
      "chiku singh\n"
     ]
    }
   ],
   "source": [
    "l=['chiku','singh']\n",
    "print(delimeter.join(l))"
   ]
  },
  {
   "cell_type": "markdown",
   "id": "d22e8b12",
   "metadata": {},
   "source": [
    "# Convert a Integer List to a integer ex- [ 1 , 2 , 3 ]  = 123 and Vice Versa"
   ]
  },
  {
   "cell_type": "code",
   "execution_count": 10,
   "id": "7e67c997",
   "metadata": {},
   "outputs": [
    {
     "name": "stdout",
     "output_type": "stream",
     "text": [
      "List to Integer : 123\n",
      "Integer to list [1, 2, 3]\n"
     ]
    }
   ],
   "source": [
    "a=[1,2,3]\n",
    "s=[str(integer) for integer in a]\n",
    "string=\"\".join(s)\n",
    "string=int(string)\n",
    "print(\"List to Integer :\",string)\n",
    "print(\"Integer to list\",list(map(int, str(string))))          "
   ]
  },
  {
   "cell_type": "markdown",
   "id": "0e90b201",
   "metadata": {},
   "source": [
    "# Convert List of character into String"
   ]
  },
  {
   "cell_type": "code",
   "execution_count": 1,
   "id": "2c6ef0f0",
   "metadata": {},
   "outputs": [
    {
     "name": "stdout",
     "output_type": "stream",
     "text": [
      "chiku\n"
     ]
    }
   ],
   "source": [
    "a=['c','h','i','k','u']\n",
    "b=\"\"\n",
    "for i in a:\n",
    "    b+=i\n",
    "print(b)\n",
    "    "
   ]
  },
  {
   "cell_type": "code",
   "execution_count": 13,
   "id": "7eb0688b",
   "metadata": {},
   "outputs": [
    {
     "name": "stdout",
     "output_type": "stream",
     "text": [
      "[1, 2, 4]\n"
     ]
    }
   ],
   "source": [
    "#Input: digits = [4,3,2,1]\n",
    "#Output: [4,3,2,2]\n",
    "#Explanation: The array represents the integer 4321.\n",
    "#Incrementing by one gives 4321 + 1 = 4322.\n",
    "#Thus, the result should be [4,3,2,2].\n",
    "\n",
    "\n",
    "a=[1,2,3]\n",
    "s=[str(integer) for integer in a]\n",
    "string=\"\".join(s)\n",
    "string=int(string)\n",
    "string=string+1\n",
    "print(list(map(int, str(string))))\n"
   ]
  },
  {
   "cell_type": "code",
   "execution_count": 21,
   "id": "4fad8b79",
   "metadata": {},
   "outputs": [
    {
     "name": "stdout",
     "output_type": "stream",
     "text": [
      "2\n",
      "a\n",
      "ab\n",
      "number of distinct word : 2\n",
      "ab 1 Times\n",
      "a 1 Times\n"
     ]
    }
   ],
   "source": [
    "#Write a program to count no of distinct word in alist and cout their occurance\n",
    "\n",
    "n=int(input())\n",
    "l=[]\n",
    "for i in range(n):\n",
    "    a=input()\n",
    "    l.append(a)\n",
    "b=set(l)\n",
    "print(\"number of distinct word :\",len(b)) \n",
    "for i in b:\n",
    "    print(i,l.count(i),\"Times\")"
   ]
  },
  {
   "cell_type": "markdown",
   "id": "562ba1c3",
   "metadata": {},
   "source": [
    "Choclate Distribution Problem GFG\n",
    "\n",
    "Input : arr[] = {3, 4, 1, 9, 56, 7, 9, 12} , m = 5 \n",
    "\n",
    "Output: Minimum Difference is 6 \n",
    "\n",
    "Explanation:\n",
    "\n",
    "The set goes like 3,4,7,9,9 and the output\n",
    "\n",
    "is 9-3 = 6\n",
    "\n",
    "Input : arr[] = {12, 4, 7, 9, 2, 23, 25, 41, \n",
    "\n",
    "30, 40, 28, 42, 30, 44, 48, \n",
    "\n",
    "43, 50} , m = 7 \n",
    "\n",
    "Output: Minimum Difference is 10 \n",
    "\n",
    "Explanation:\n",
    "\n",
    "We need to pick 7 packets. We pick 40, 41, \n",
    "\n",
    "42, 44, 48, 43 and 50 to minimize difference \n",
    "\n",
    "between maximum and minimum"
   ]
  },
  {
   "cell_type": "code",
   "execution_count": 2,
   "id": "85a9a49c",
   "metadata": {},
   "outputs": [
    {
     "name": "stdout",
     "output_type": "stream",
     "text": [
      "2\n"
     ]
    }
   ],
   "source": [
    "arr = [7, 3, 2, 4, 9, 12, 56]\n",
    "l=[]\n",
    "m = 3\n",
    "b=len(arr)\n",
    "arr.sort()\n",
    "for i in range(0,b):\n",
    "    if i<(b-m+1):\n",
    "        l.append(arr[m-1+i]-arr[i])\n",
    "print(min(l))\n",
    "    "
   ]
  },
  {
   "cell_type": "markdown",
   "id": "0cda9996",
   "metadata": {},
   "source": [
    "# Sort a string"
   ]
  },
  {
   "cell_type": "code",
   "execution_count": 2,
   "id": "0ab82bde",
   "metadata": {},
   "outputs": [
    {
     "name": "stdout",
     "output_type": "stream",
     "text": [
      "['a', 'd', 'h', 'h', 'n', 's', 's', 'u', 'u']\n"
     ]
    }
   ],
   "source": [
    "s=\"sudhanshu\"\n",
    "print(sorted(s))"
   ]
  },
  {
   "cell_type": "markdown",
   "id": "db5f1ea7",
   "metadata": {},
   "source": [
    "# Integer to List"
   ]
  },
  {
   "cell_type": "code",
   "execution_count": 1,
   "id": "440c0e04",
   "metadata": {},
   "outputs": [
    {
     "name": "stdout",
     "output_type": "stream",
     "text": [
      "<class 'int'>\n",
      "Integer to list [1, 2, 3, 4, 5]\n"
     ]
    }
   ],
   "source": [
    "string=12345\n",
    "print(\"Integer to list\",list(map(int, str(string)))) "
   ]
  },
  {
   "cell_type": "markdown",
   "id": "1e0e7afa",
   "metadata": {},
   "source": [
    "# Convert a Number to its Binary"
   ]
  },
  {
   "cell_type": "code",
   "execution_count": 1,
   "id": "52da5fa0",
   "metadata": {},
   "outputs": [
    {
     "name": "stdout",
     "output_type": "stream",
     "text": [
      "[1, 0, 0, 0]\n"
     ]
    }
   ],
   "source": [
    "n=8\n",
    "a=[]\n",
    "while n!=0:\n",
    "    a.append(n%2)\n",
    "    n=n//2\n",
    "a.reverse()\n",
    "print(a)"
   ]
  },
  {
   "cell_type": "markdown",
   "id": "17a433a9",
   "metadata": {},
   "source": [
    "# String is palindrome"
   ]
  },
  {
   "cell_type": "code",
   "execution_count": 1,
   "id": "96075c5c",
   "metadata": {},
   "outputs": [
    {
     "data": {
      "text/plain": [
       "True"
      ]
     },
     "execution_count": 1,
     "metadata": {},
     "output_type": "execute_result"
    }
   ],
   "source": [
    "def palindrome(s):\n",
    "    i=0\n",
    "    j=len(s)-1\n",
    "    while i<j:\n",
    "        if s[i]!=s[j]:\n",
    "            return False\n",
    "        i+=1\n",
    "        j-=1\n",
    "    return True\n",
    "palindrome('madam')"
   ]
  },
  {
   "cell_type": "markdown",
   "id": "7c953135",
   "metadata": {},
   "source": [
    "# Find Triplet with sum zero"
   ]
  },
  {
   "cell_type": "code",
   "execution_count": 2,
   "id": "5f298b9e",
   "metadata": {},
   "outputs": [
    {
     "data": {
      "text/plain": [
       "2"
      ]
     },
     "execution_count": 2,
     "metadata": {},
     "output_type": "execute_result"
    }
   ],
   "source": [
    "def findTriplets(arr, n):\n",
    "        c=0\n",
    "        arr=sorted(arr)\n",
    "        for i in range(n-2):\n",
    "            l=i+1\n",
    "            r=n-1\n",
    "            while l<r:\n",
    "                if arr[i]+arr[l]+arr[r]==0:\n",
    "                    c+=1\n",
    "                    break\n",
    "                elif arr[i]+arr[r]+arr[l]<0:\n",
    "                    l+=1\n",
    "                else:\n",
    "                    r-=1\n",
    "        return c\n",
    "arr=[0,1,2,-1,-2]\n",
    "n=5\n",
    "findTriplets(arr,n)"
   ]
  },
  {
   "cell_type": "markdown",
   "id": "7b50dbb3",
   "metadata": {},
   "source": [
    "# Find a String "
   ]
  },
  {
   "cell_type": "code",
   "execution_count": 2,
   "id": "7a1824c1",
   "metadata": {},
   "outputs": [
    {
     "data": {
      "text/plain": [
       "2"
      ]
     },
     "execution_count": 2,
     "metadata": {},
     "output_type": "execute_result"
    }
   ],
   "source": [
    "def count_substring(string, sub_string):\n",
    "    sl=len(string)\n",
    "    ssl=len(sub_string)\n",
    "    c=0\n",
    "    for i in range(sl-ssl+1):\n",
    "        if string[i:i+ssl]==sub_string:\n",
    "            c+=1\n",
    "    return c\n",
    "string='abcdbcd'\n",
    "sub_string='bcd'\n",
    "count_substring(string,sub_string)"
   ]
  },
  {
   "cell_type": "code",
   "execution_count": 34,
   "id": "86547139",
   "metadata": {},
   "outputs": [
    {
     "name": "stdout",
     "output_type": "stream",
     "text": [
      "<generator object <genexpr> at 0x000001BB4AA767B0>\n"
     ]
    }
   ],
   "source": [
    "s='chiku singh'\n",
    "print((i) for i in s)\n",
    "\n",
    "    "
   ]
  },
  {
   "cell_type": "markdown",
   "id": "88fbaa72",
   "metadata": {},
   "source": [
    "# Sort Each word in a list\n",
    "\n",
    "Ex= [\"eat\",\"tea\",\"tan\",\"ate\",\"nat\",\"bat\"] ===== ['aet', 'aet', 'ant', 'aet', 'ant', 'abt']"
   ]
  },
  {
   "cell_type": "code",
   "execution_count": 3,
   "id": "fa9a3708",
   "metadata": {},
   "outputs": [
    {
     "name": "stdout",
     "output_type": "stream",
     "text": [
      "[' adhhnssuu', 'ghins']\n"
     ]
    }
   ],
   "source": [
    "l=['sudhanshu ','singh']\n",
    "print([''.join(sorted(i)) for i in l])\n"
   ]
  },
  {
   "cell_type": "markdown",
   "id": "c078413a",
   "metadata": {},
   "source": [
    "# Reverse Integer\n",
    "\n",
    "Input: x = -123\n",
    "\n",
    "Output: -321"
   ]
  },
  {
   "cell_type": "code",
   "execution_count": null,
   "id": "c0e82f07",
   "metadata": {},
   "outputs": [],
   "source": [
    "    def reverse(self, x: int) -> int:\n",
    "        r=0\n",
    "        if x<0:\n",
    "            sign=-1\n",
    "            x=-x\n",
    "        else:\n",
    "            sign=1\n",
    "        while x:\n",
    "            r=r*10+x%10\n",
    "            x=x//10\n",
    "        if r>pow(2,31):\n",
    "            return 0\n",
    "        return r*sign"
   ]
  },
  {
   "cell_type": "markdown",
   "id": "b895d335",
   "metadata": {},
   "source": [
    "# Power of 2             \n",
    "pow(2,x)==n"
   ]
  },
  {
   "cell_type": "code",
   "execution_count": 4,
   "id": "12bf8aa1",
   "metadata": {},
   "outputs": [
    {
     "data": {
      "text/plain": [
       "True"
      ]
     },
     "execution_count": 4,
     "metadata": {},
     "output_type": "execute_result"
    }
   ],
   "source": [
    "def isPowerofTwo(n):\n",
    "        if n==0:\n",
    "            return False\n",
    "        return n&(n-1)==0\n",
    "isPowerofTwo(2)"
   ]
  },
  {
   "cell_type": "code",
   "execution_count": null,
   "id": "7f98305a",
   "metadata": {},
   "outputs": [],
   "source": []
  }
 ],
 "metadata": {
  "kernelspec": {
   "display_name": "Python 3",
   "language": "python",
   "name": "python3"
  },
  "language_info": {
   "codemirror_mode": {
    "name": "ipython",
    "version": 3
   },
   "file_extension": ".py",
   "mimetype": "text/x-python",
   "name": "python",
   "nbconvert_exporter": "python",
   "pygments_lexer": "ipython3",
   "version": "3.8.8"
  }
 },
 "nbformat": 4,
 "nbformat_minor": 5
}
