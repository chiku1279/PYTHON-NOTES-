{
 "cells": [
  {
   "cell_type": "markdown",
   "id": "61f42781",
   "metadata": {},
   "source": [
    "# A Dictionary in python is a collection of unordered , changeable , and indexed . A dictionary is a collection of Key:Value Pair , It is Mutable i.e changes take place"
   ]
  },
  {
   "cell_type": "markdown",
   "id": "e94960e7",
   "metadata": {},
   "source": [
    "# Create a Dictionary"
   ]
  },
  {
   "cell_type": "code",
   "execution_count": 94,
   "id": "c3de12cd",
   "metadata": {},
   "outputs": [
    {
     "name": "stdout",
     "output_type": "stream",
     "text": [
      "{'a': 'chiku', 'b': 'singh'}\n",
      "{}\n",
      "{'a': 'chiku', 'b': 'singh', 'c': 'kanpur'}\n",
      "{1: 23, 2: 24, 4: 11}\n"
     ]
    }
   ],
   "source": [
    "#Empty Dictionary\n",
    "\n",
    "d=dict\n",
    "print(d)\n",
    "\n",
    "#Empty Dictionary\n",
    "\n",
    "d={}\n",
    "print(d)\n",
    "\n",
    "d={'a':'chiku','b':'singh','c':'kanpur'}\n",
    "print(d)\n",
    "\n",
    "d={1:23,2:24,4:11}\n",
    "print(d)"
   ]
  },
  {
   "cell_type": "markdown",
   "id": "fe6aad7e",
   "metadata": {},
   "source": [
    "# Access Element of Dictionary\n",
    "\n",
    "We can access Dictionary using Its key value not the index"
   ]
  },
  {
   "cell_type": "code",
   "execution_count": 10,
   "id": "e9376450",
   "metadata": {},
   "outputs": [
    {
     "name": "stdout",
     "output_type": "stream",
     "text": [
      "chiku\n",
      "kanpur\n",
      "20\n"
     ]
    }
   ],
   "source": [
    "d={'a':'chiku','b':'singh','c':'kanpur'}\n",
    "print(d['a'])\n",
    "print(d['c'])\n",
    "\n",
    "d={1:10,2:20,3:30}\n",
    "print(d[2])"
   ]
  },
  {
   "cell_type": "markdown",
   "id": "043185e1",
   "metadata": {},
   "source": [
    "# Update an Element in Dictionary"
   ]
  },
  {
   "cell_type": "code",
   "execution_count": 12,
   "id": "dec5846c",
   "metadata": {},
   "outputs": [
    {
     "name": "stdout",
     "output_type": "stream",
     "text": [
      "{'name': 'chiku', 'age': 22, 'branch': 'cs'}\n",
      "After Update Age : {'name': 'chiku', 'age': 23, 'branch': 'cs'}\n"
     ]
    }
   ],
   "source": [
    "d={'name':'chiku','age':22,'branch':'cs'}\n",
    "print(d)\n",
    "d['age']=23\n",
    "print(\"After Update Age :\",d)"
   ]
  },
  {
   "cell_type": "markdown",
   "id": "8004175a",
   "metadata": {},
   "source": [
    "# Insert an eleement "
   ]
  },
  {
   "cell_type": "code",
   "execution_count": 13,
   "id": "9bf07717",
   "metadata": {},
   "outputs": [
    {
     "name": "stdout",
     "output_type": "stream",
     "text": [
      "{1: 10, 2: 20, 3: 30, 4: 40}\n"
     ]
    }
   ],
   "source": [
    "d={1:10,2:20,3:30}\n",
    "d[4]=40\n",
    "print(d)"
   ]
  },
  {
   "cell_type": "markdown",
   "id": "fcb9ec8a",
   "metadata": {},
   "source": [
    "# Traversing a Dictionary"
   ]
  },
  {
   "cell_type": "code",
   "execution_count": 23,
   "id": "b01378fb",
   "metadata": {},
   "outputs": [
    {
     "name": "stdout",
     "output_type": "stream",
     "text": [
      "a 10\n",
      "b 20\n",
      "c 30\n"
     ]
    }
   ],
   "source": [
    "d={'a':10,'b':20,'c':30}\n",
    "for i in d:\n",
    "    print(i,d[i])"
   ]
  },
  {
   "cell_type": "markdown",
   "id": "8751380f",
   "metadata": {},
   "source": [
    "# Delete an element from Dictionary\n",
    "\n",
    "1-- Pop :- used to delete a particular pair d.pop[key]\n",
    "\n",
    "2--Popitem :- used to delete Random element d.popitems\n",
    "\n",
    "3-- Clear :- Used to delete whole Dictionary\n",
    "\n",
    "4-- Del :- Used to delete particular elemnt or whole Dictionary del d[key] / del d"
   ]
  },
  {
   "cell_type": "code",
   "execution_count": 41,
   "id": "5be3ec13",
   "metadata": {},
   "outputs": [
    {
     "name": "stdout",
     "output_type": "stream",
     "text": [
      "{'a': 1, 'b': 2, 'd': 4}\n",
      "{'a': 1, 'b': 2}\n",
      "{}\n",
      "{2: 20}\n"
     ]
    }
   ],
   "source": [
    "d={'a':1,'b':2,'c':3,'d':4}\n",
    "d.pop('c')\n",
    "print(d)\n",
    "\n",
    "d.popitem()\n",
    "print(d)\n",
    "\n",
    "d.clear()\n",
    "print(d)\n",
    "\n",
    "d={1:10,2:20}\n",
    "del d[1]\n",
    "print(d)\n",
    "\n",
    "#del d()\n",
    "#print(d)"
   ]
  },
  {
   "cell_type": "markdown",
   "id": "7d77e198",
   "metadata": {},
   "source": [
    "# Methods in Dictionary"
   ]
  },
  {
   "cell_type": "code",
   "execution_count": 42,
   "id": "e7542228",
   "metadata": {},
   "outputs": [
    {
     "name": "stdout",
     "output_type": "stream",
     "text": [
      "{1: 10, 2: 20, 3: 30, 4: 40}\n"
     ]
    }
   ],
   "source": [
    "# Copy\n",
    "d={1:10,2:20,3:30,4:40}\n",
    "a=d.copy()\n",
    "print(a)"
   ]
  },
  {
   "cell_type": "code",
   "execution_count": 52,
   "id": "178d0fe8",
   "metadata": {},
   "outputs": [
    {
     "name": "stdout",
     "output_type": "stream",
     "text": [
      "{1: 10, 2: 10, 3: 10}\n",
      "{'a': None, 'b': None, 3: None, 4: None}\n"
     ]
    }
   ],
   "source": [
    "#Fromkeys\n",
    "\n",
    "d={}.fromkeys([1,2,3],10)\n",
    "print(d)\n",
    "\n",
    "#No value give shows none\n",
    "d={}.fromkeys(['a','b',3,4])\n",
    "print(d)"
   ]
  },
  {
   "cell_type": "code",
   "execution_count": 55,
   "id": "c41fc4b9",
   "metadata": {},
   "outputs": [
    {
     "name": "stdout",
     "output_type": "stream",
     "text": [
      "20\n",
      "39\n"
     ]
    }
   ],
   "source": [
    "#get\n",
    "\n",
    "d={'a':10,'b':20}\n",
    "print(d.get('b',21))   #it will show the correct value at key\n",
    "\n",
    "print(d.get('d',39))   #key 'd' is not present hence it shows the provided value"
   ]
  },
  {
   "cell_type": "code",
   "execution_count": 60,
   "id": "59fbb9fa",
   "metadata": {},
   "outputs": [
    {
     "name": "stdout",
     "output_type": "stream",
     "text": [
      "dict_keys(['a', 'b'])\n"
     ]
    }
   ],
   "source": [
    "#Key()  it will geturn the key in dictionary\n",
    "\n",
    "d={'a':10,'b':20}\n",
    "print(d.keys())"
   ]
  },
  {
   "cell_type": "code",
   "execution_count": 74,
   "id": "d129b56e",
   "metadata": {},
   "outputs": [
    {
     "name": "stdout",
     "output_type": "stream",
     "text": [
      "{'a': 10, 'b': 20}\n",
      "{'a': 10, 'b': 20, 'a1': 40}\n",
      "{'a': 10, 'b': 20, 'a1': 40, 'e': None}\n"
     ]
    }
   ],
   "source": [
    "d={'a':10,'b':20}\n",
    "d.setdefault('a',30)                   #a is alredy exit with value 10\n",
    "print(d)\n",
    "\n",
    "d.setdefault('a1',40)                  #a1 is not exist to create\n",
    "print(d)\n",
    "\n",
    "d.setdefault('e')                      # e doesnt has any value so None\n",
    "print(d)"
   ]
  },
  {
   "cell_type": "code",
   "execution_count": 75,
   "id": "51160b70",
   "metadata": {},
   "outputs": [
    {
     "name": "stdout",
     "output_type": "stream",
     "text": [
      "dict_values([10, 20])\n"
     ]
    }
   ],
   "source": [
    "#values\n",
    "\n",
    "d={'a':10,'b':20}\n",
    "print(d.values())"
   ]
  },
  {
   "cell_type": "code",
   "execution_count": 82,
   "id": "c0a879e3",
   "metadata": {},
   "outputs": [
    {
     "name": "stdout",
     "output_type": "stream",
     "text": [
      "{'a': 10, 'b': 20, 'd': 50, 'e': 40}\n"
     ]
    }
   ],
   "source": [
    "#Update ()  used to upadate a old dic to new one of takes tuple of key value pair as argument\n",
    "\n",
    "d={'a':10,'b':20}\n",
    "d1={'d':50,'e':40}\n",
    "d.update(d1)\n",
    "print(d)\n",
    "\n"
   ]
  },
  {
   "cell_type": "markdown",
   "id": "a2641924",
   "metadata": {},
   "source": [
    "# Sorted()  "
   ]
  },
  {
   "cell_type": "code",
   "execution_count": 91,
   "id": "e0ef5011",
   "metadata": {},
   "outputs": [
    {
     "name": "stdout",
     "output_type": "stream",
     "text": [
      "['b', 'c', 'm', 'z']\n",
      "['z', 'm', 'c', 'b']\n",
      "['a', 'as', 'aadk', 'attrs']\n"
     ]
    }
   ],
   "source": [
    "#Sort acending order\n",
    "\n",
    "d={'z':10,'b':20,'m':80,'c':22}\n",
    "print(sorted(d))\n",
    "\n",
    "#sort decending order\n",
    "\n",
    "print(sorted(d,reverse=True))\n",
    "\n",
    "#Sort according to length\n",
    "\n",
    "d={'as':10,'aadk':11,'a':15,'attrs':45,'a':56}\n",
    "print(sorted(d,key=len))"
   ]
  },
  {
   "cell_type": "markdown",
   "id": "4b194ba1",
   "metadata": {},
   "source": [
    "# List VS Dictionary"
   ]
  },
  {
   "cell_type": "markdown",
   "id": "7912002b",
   "metadata": {},
   "source": [
    "    ---Dictionary ---\n",
    "\n",
    "it is unordered collection\n",
    "\n",
    "Access using keys\n",
    "\n",
    "Collection of key-value pair\n",
    "\n",
    "no dublicate element\n",
    "\n",
    "     ---List ---\n",
    "\n",
    "it is ordered collection\n",
    "\n",
    "Access using index\n",
    "\n",
    "Collection of elements\n",
    "\n",
    "have dublicate element"
   ]
  },
  {
   "cell_type": "markdown",
   "id": "bd6184b3",
   "metadata": {},
   "source": [
    "# Print the key having Maximum Value"
   ]
  },
  {
   "cell_type": "code",
   "execution_count": 6,
   "id": "e4353daa",
   "metadata": {},
   "outputs": [
    {
     "name": "stdout",
     "output_type": "stream",
     "text": [
      "9\n"
     ]
    }
   ],
   "source": [
    "d={1:10,3:50,4:10,5:61,9:110}\n",
    "max1=max(d,key=d.get)\n",
    "print(max1)"
   ]
  },
  {
   "cell_type": "markdown",
   "id": "8b3406b5",
   "metadata": {},
   "source": [
    "# Group Anargam"
   ]
  },
  {
   "cell_type": "code",
   "execution_count": 5,
   "id": "34d33025",
   "metadata": {},
   "outputs": [
    {
     "name": "stdout",
     "output_type": "stream",
     "text": [
      "Ungrouped= ['eat', 'tea', 'tan', 'ate', 'nat', 'bat']\n",
      "Grouped= [['eat', 'tea', 'ate'], ['tan', 'nat'], ['bat']]\n"
     ]
    }
   ],
   "source": [
    "def group_anargam(strs):        \n",
    "    d={}\n",
    "    for i in strs:\n",
    "        sorted_word=''.join(sorted(i))          #taking one word one by one and sort them\n",
    "        if sorted_word not in d:           #check if he word is in d if not \n",
    "            d[sorted_word]=[i]            #make it in d by sorted word as key and i as that word\n",
    "        else:\n",
    "            d[sorted_word].append(i)             #if the sorted word is already then append the word as same sorted_word key\n",
    "    l=[]\n",
    "    for i in d.values():                    #we have to give  o/p as a list hence d-l convert\n",
    "        l.append(i)\n",
    "    return l\n",
    "strs=[\"eat\",\"tea\",\"tan\",\"ate\",\"nat\",\"bat\"]\n",
    "print(\"Ungrouped=\",[\"eat\",\"tea\",\"tan\",\"ate\",\"nat\",\"bat\"])\n",
    "a=group_anargam(strs)\n",
    "print(\"Grouped=\",a)"
   ]
  },
  {
   "cell_type": "markdown",
   "id": "ada533e6",
   "metadata": {},
   "source": [
    "# Repeated substring pattern\n",
    "\n",
    "Input: s = \"abab\"\n",
    "Output: true\n",
    "\n",
    "Input: s = \"aba\"\n",
    "Output: false"
   ]
  },
  {
   "cell_type": "code",
   "execution_count": null,
   "id": "1acc657b",
   "metadata": {},
   "outputs": [],
   "source": [
    "return s in s[1:]+s[:-1]"
   ]
  }
 ],
 "metadata": {
  "kernelspec": {
   "display_name": "Python 3",
   "language": "python",
   "name": "python3"
  },
  "language_info": {
   "codemirror_mode": {
    "name": "ipython",
    "version": 3
   },
   "file_extension": ".py",
   "mimetype": "text/x-python",
   "name": "python",
   "nbconvert_exporter": "python",
   "pygments_lexer": "ipython3",
   "version": "3.8.8"
  }
 },
 "nbformat": 4,
 "nbformat_minor": 5
}
