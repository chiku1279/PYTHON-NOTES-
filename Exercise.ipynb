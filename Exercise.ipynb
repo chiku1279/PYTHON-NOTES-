{
 "cells": [
  {
   "cell_type": "code",
   "execution_count": 4,
   "id": "a41290c6",
   "metadata": {},
   "outputs": [
    {
     "name": "stdout",
     "output_type": "stream",
     "text": [
      "1\n",
      "2\n",
      "3\n"
     ]
    }
   ],
   "source": [
    "# Write a Python program to create an array of 5 integers and display the array items. Access individual element through indexe\n",
    "\n",
    "from array import *\n",
    "arr=array('i',[1,2,3,4,5])\n",
    "print(arr[0])\n",
    "print(arr[1])\n",
    "print(arr[2])"
   ]
  },
  {
   "cell_type": "code",
   "execution_count": 5,
   "id": "f9abe6cd",
   "metadata": {},
   "outputs": [
    {
     "name": "stdout",
     "output_type": "stream",
     "text": [
      "array('i', [1, 2, 3, 4, 5, 6])\n"
     ]
    }
   ],
   "source": [
    "#Write a Python program to append a new item to the end of the array.\n",
    "\n",
    "from array import *\n",
    "arr=array('i',[1,2,3,4,5])\n",
    "arr.append(6)\n",
    "print(arr)"
   ]
  },
  {
   "cell_type": "code",
   "execution_count": 44,
   "id": "1b416303",
   "metadata": {},
   "outputs": [
    {
     "name": "stdout",
     "output_type": "stream",
     "text": [
      "Original array: array('i', [1, 2, 3, 4, 5])\n",
      "Length in bytes: 4\n"
     ]
    }
   ],
   "source": [
    "#Write a Python program to get the length in bytes of one array item in the internal representation.\n",
    "\n",
    "from array import *\n",
    "arr=array('i',[1,2,3,4,5])\n",
    "print(\"Original array:\",arr)\n",
    "print(\"Length in bytes:\",arr.itemsize)"
   ]
  },
  {
   "cell_type": "code",
   "execution_count": 41,
   "id": "aeffcdb2",
   "metadata": {},
   "outputs": [
    {
     "name": "stdout",
     "output_type": "stream",
     "text": [
      "b'w0resourae'\n"
     ]
    }
   ],
   "source": [
    "#Write a Python program to convert an array to an array of machine values and return the bytes representation\n",
    "\n",
    "#interger byte rep- 0=48,1=49...\n",
    "#char byte rep-a=97,b=98... \n",
    "\n",
    "from array import *\n",
    "arr=array('b',[119, 48, 114, 101,  115, 111, 117, 114, 97, 101])\n",
    "s=arr.tobytes()\n",
    "print(s)\n",
    "\n",
    "\n"
   ]
  },
  {
   "cell_type": "code",
   "execution_count": 102,
   "id": "ea551bde",
   "metadata": {},
   "outputs": [
    {
     "name": "stdout",
     "output_type": "stream",
     "text": [
      "Enter no of elements in ana array2\n",
      "Enter the element :1\n",
      "Enter the element :1\n",
      "Entered array is : array('i', [1, 1])\n",
      "New array is : array('i', [1])\n"
     ]
    }
   ],
   "source": [
    "#Remove Dublicate element in an array\n",
    "\n",
    "from array import*\n",
    "arr=array('i',[])\n",
    "n=int(input(\"Enter no of elements in ana array\"))\n",
    "for i in range(n):\n",
    "    arr.append(int(input(\"Enter the element :\")))\n",
    "print(\"Entered array is :\",arr)\n",
    "newarr=array('i',[])\n",
    "for i in arr:\n",
    "    if i not in newarr:\n",
    "        newarr.append(i)\n",
    "print(\"New array is :\",newarr)\n",
    "\n"
   ]
  },
  {
   "cell_type": "code",
   "execution_count": 98,
   "id": "c19acee7",
   "metadata": {},
   "outputs": [
    {
     "name": "stdout",
     "output_type": "stream",
     "text": [
      "array('i', [13, 14, 16, 17, 20])\n"
     ]
    }
   ],
   "source": [
    "#Write a Python program to find the missing number in a given array of numbers between 10 and 20.\n",
    "\n",
    "from array import*\n",
    "arr=array('i',[11,12,15,18,19])\n",
    "newarr=array('i',[])\n",
    "for i in range(11,21):\n",
    "    if i not in arr:\n",
    "        newarr.append(i)\n",
    "print(newarr)\n",
    "\n"
   ]
  },
  {
   "cell_type": "code",
   "execution_count": 103,
   "id": "c75ad15e",
   "metadata": {},
   "outputs": [
    {
     "name": "stdout",
     "output_type": "stream",
     "text": [
      "15\n"
     ]
    }
   ],
   "source": [
    "#Write a Python program to add elements of an array\n",
    "\n",
    "from array import*\n",
    "arr=array('i',[1,2,3,4,5])\n",
    "sum=0\n",
    "for i in arr:\n",
    "    sum=sum+i\n",
    "print(sum)"
   ]
  },
  {
   "cell_type": "code",
   "execution_count": 106,
   "id": "7ba4f0e0",
   "metadata": {},
   "outputs": [
    {
     "name": "stdout",
     "output_type": "stream",
     "text": [
      "Odd Sum : 9\n"
     ]
    }
   ],
   "source": [
    "#Write a Python program to add odd elements and even element of an array\n",
    "\n",
    "from array import*\n",
    "arr=array('i',[1,2,3,4,5])\n",
    "sum=0\n",
    "for i in arr:\n",
    "    if i%2!=0:\n",
    "        sum=sum+i\n",
    "print(\"Odd Sum :\",sum)"
   ]
  },
  {
   "cell_type": "code",
   "execution_count": 21,
   "id": "ac327eea",
   "metadata": {},
   "outputs": [
    {
     "name": "stdout",
     "output_type": "stream",
     "text": [
      "array('i', [2, 4])\n"
     ]
    }
   ],
   "source": [
    "#How do you find the duplicate number on a given integer array\n",
    "\n",
    "from array import*\n",
    "arr=array('i',[2,4,6,3,4,2,1,2])\n",
    "arr1=array('i',[])\n",
    "for i in range(len(arr)):\n",
    "    for j in range(i+1,len(arr)):\n",
    "        if arr[i]==arr[j]:\n",
    "            if arr[i] in arr1:\n",
    "                break\n",
    "            else:\n",
    "                arr1.append(arr[i])\n",
    "print(arr1)"
   ]
  },
  {
   "cell_type": "code",
   "execution_count": 25,
   "id": "4363e490",
   "metadata": {},
   "outputs": [
    {
     "name": "stdout",
     "output_type": "stream",
     "text": [
      "Minimum= 1 \n",
      " Maximum= 8\n"
     ]
    }
   ],
   "source": [
    "#How do you find the largest and smallest number in an unsorted integer array\n",
    "\n",
    "from array import *\n",
    "arr=array('i',[2,3,5,1,7,8])\n",
    "for i in range(len(arr)):\n",
    "    for j in range(len(arr)-1):\n",
    "        if arr[j]>arr[j+1]:\n",
    "            arr[j],arr[j+1]=arr[j+1],arr[j]\n",
    "print(\"Minimum=\",arr[0],\"\\n\",\"Maximum=\",arr[len(arr)-1])"
   ]
  },
  {
   "cell_type": "code",
   "execution_count": 38,
   "id": "672018bd",
   "metadata": {},
   "outputs": [
    {
     "name": "stdout",
     "output_type": "stream",
     "text": [
      "Enter a number whose Sum you want to check :8\n",
      "(1, 2)\n"
     ]
    }
   ],
   "source": [
    "#How do you find all pairs of an integer array whose sum is equal to a given number\n",
    "\n",
    "from array import*\n",
    "arr=array('i',[4,3,5,2,7,8])\n",
    "n=int(input(\"Enter a number whose Sum you want to check :\"))\n",
    "for i in range(len(arr)-1):\n",
    "    sum=0\n",
    "    for j in range(i+1,len(arr)):\n",
    "        sum=arr[i]+arr[j]\n",
    "        if sum == n:\n",
    "            print((i,j))\n",
    "        else:\n",
    "            break\n",
    "        "
   ]
  },
  {
   "cell_type": "code",
   "execution_count": 63,
   "id": "af8a5930",
   "metadata": {},
   "outputs": [
    {
     "name": "stdout",
     "output_type": "stream",
     "text": [
      "array('i', [1, 4, 5])\n"
     ]
    }
   ],
   "source": [
    "#How do you find duplicate numbers in an array if it contains multiple duplicates\n",
    "\n",
    "from array import*\n",
    "arr=array('i',[1,4,2,5,1,3,4,5])\n",
    "arr1=array('i',[])\n",
    "for i in range(len(arr)-1):\n",
    "    for j in range(i+1,len(arr)):\n",
    "        if arr[i]==arr[j]:\n",
    "            if arr[i] in arr1:\n",
    "                break\n",
    "            else:\n",
    "                arr1.append(arr[i])\n",
    "print(arr1)\n",
    "        \n",
    "\n",
    "                "
   ]
  },
  {
   "cell_type": "code",
   "execution_count": 111,
   "id": "cb703a83",
   "metadata": {},
   "outputs": [
    {
     "name": "stdout",
     "output_type": "stream",
     "text": [
      "array('i', [1, 4, 5, 2, 3])\n"
     ]
    }
   ],
   "source": [
    "#How to remove duplicates from a given array\n",
    "\n",
    "from array import*\n",
    "arr=array('i',[1,4,2,5,1,3,4,5])\n",
    "arr1=array('i',[])\n",
    "for i in range(len(arr)-1):            \n",
    "    for j in range(i+1,len(arr)):\n",
    "        if arr[i]==arr[j]:\n",
    "            if arr[i] in arr1:\n",
    "                break\n",
    "            else:\n",
    "                arr1.append(arr[i])\n",
    "for i in range(len(arr)):\n",
    "    if arr[i] not in arr1:\n",
    "        arr1.append(arr[i])\n",
    "    else:\n",
    "        pass\n",
    "print(arr1)\n",
    "                "
   ]
  },
  {
   "cell_type": "code",
   "execution_count": 82,
   "id": "d61d2c7a",
   "metadata": {},
   "outputs": [
    {
     "name": "stdout",
     "output_type": "stream",
     "text": [
      "Enter target2\n",
      "4\n"
     ]
    }
   ],
   "source": [
    "#How do you search a target value in a rotated array\n",
    "\n",
    "from array import*\n",
    "arr=array('i',[1,3,4,6,2])\n",
    "target=int(input(\"Enter target\"))\n",
    "if target in arr:\n",
    "    print(arr.index(target))\n",
    "else:\n",
    "    print(\"-1\")"
   ]
  },
  {
   "cell_type": "code",
   "execution_count": 106,
   "id": "c719ba14",
   "metadata": {},
   "outputs": [],
   "source": [
    "#Given an unsorted array of integers, find the length of the longest consecutive elements sequence"
   ]
  },
  {
   "cell_type": "code",
   "execution_count": 112,
   "id": "fbede53e",
   "metadata": {},
   "outputs": [],
   "source": [
    "#How is an integer array sorted in place using the quicksort algorithm"
   ]
  },
  {
   "cell_type": "code",
   "execution_count": 13,
   "id": "b32062c0",
   "metadata": {},
   "outputs": [
    {
     "name": "stdout",
     "output_type": "stream",
     "text": [
      "(8, 7)\n"
     ]
    }
   ],
   "source": [
    "#Given an unsorted array of n integers. Find that pair of integers which gives the maximum sum\n",
    "\n",
    "from array import*\n",
    "arr=array('i',[2,4,1,5,7,8])\n",
    "for i in range(len(arr)-1):\n",
    "    for j in range(i+1,len(arr)):\n",
    "        if arr[i]>arr[j]:\n",
    "            arr[i],arr[j]=arr[j],arr[i]\n",
    "print((arr[-1],arr[-2]))"
   ]
  },
  {
   "cell_type": "code",
   "execution_count": 54,
   "id": "83668b7a",
   "metadata": {},
   "outputs": [
    {
     "name": "stdout",
     "output_type": "stream",
     "text": [
      "2\n",
      "7\n",
      "8\n"
     ]
    }
   ],
   "source": [
    "#Program to print number not in range between giwven number\n",
    "\n",
    "from array import*\n",
    "a=array('i',[1,4,3,5,6,9])\n",
    "for i in range(1,10):\n",
    "    if i not in a:\n",
    "        print(i)\n"
   ]
  },
  {
   "cell_type": "code",
   "execution_count": 10,
   "id": "be719631",
   "metadata": {},
   "outputs": [
    {
     "name": "stdout",
     "output_type": "stream",
     "text": [
      "array('i', [11, 13, 3, 7, 29])\n"
     ]
    }
   ],
   "source": [
    "#Largest prime number in a given array\n",
    "\n",
    "from array import *\n",
    "arr=array('i',[1,11,13,3,18,7,29,1,12,16,2])\n",
    "a1=array('i',[])\n",
    "for i in range(len(arr)):\n",
    "    for j in range(2,arr[i]):\n",
    "        if arr[i]%j!=0:\n",
    "            a1.append(arr[i])\n",
    "        break\n",
    "        \n",
    "print(max(a1))"
   ]
  },
  {
   "cell_type": "code",
   "execution_count": 13,
   "id": "a550ef27",
   "metadata": {},
   "outputs": [
    {
     "ename": "TypeError",
     "evalue": "an integer is required (got type str)",
     "output_type": "error",
     "traceback": [
      "\u001b[1;31m---------------------------------------------------------------------------\u001b[0m",
      "\u001b[1;31mTypeError\u001b[0m                                 Traceback (most recent call last)",
      "\u001b[1;32m<ipython-input-13-b748f6693149>\u001b[0m in \u001b[0;36m<module>\u001b[1;34m\u001b[0m\n\u001b[0;32m      1\u001b[0m \u001b[1;32mfrom\u001b[0m \u001b[0marray\u001b[0m \u001b[1;32mimport\u001b[0m \u001b[1;33m*\u001b[0m\u001b[1;33m\u001b[0m\u001b[1;33m\u001b[0m\u001b[0m\n\u001b[1;32m----> 2\u001b[1;33m \u001b[0marr\u001b[0m\u001b[1;33m=\u001b[0m\u001b[0marray\u001b[0m\u001b[1;33m(\u001b[0m\u001b[1;34m'i'\u001b[0m\u001b[1;33m,\u001b[0m\u001b[1;33m[\u001b[0m\u001b[1;34m\"who\"\u001b[0m\u001b[1;33m,\u001b[0m\u001b[1;34m\"are\"\u001b[0m\u001b[1;33m,\u001b[0m\u001b[1;34m\"you\"\u001b[0m\u001b[1;33m,\u001b[0m\u001b[1;34m\"and\"\u001b[0m\u001b[1;33m,\u001b[0m\u001b[1;34m\"where\"\u001b[0m\u001b[1;33m,\u001b[0m\u001b[1;34m\"are\"\u001b[0m\u001b[1;33m,\u001b[0m\u001b[1;34m\"you\"\u001b[0m\u001b[1;33m,\u001b[0m\u001b[1;34m\"from\"\u001b[0m\u001b[1;33m]\u001b[0m\u001b[1;33m)\u001b[0m\u001b[1;33m\u001b[0m\u001b[1;33m\u001b[0m\u001b[0m\n\u001b[0m\u001b[0;32m      3\u001b[0m \u001b[0mprint\u001b[0m\u001b[1;33m(\u001b[0m\u001b[0marr\u001b[0m\u001b[1;33m)\u001b[0m\u001b[1;33m\u001b[0m\u001b[1;33m\u001b[0m\u001b[0m\n",
      "\u001b[1;31mTypeError\u001b[0m: an integer is required (got type str)"
     ]
    }
   ],
   "source": [
    "from array import *\n",
    "arr=array('i',[])\n",
    "n=int(input(\"Enter no of string\"))\n",
    "for i in range(n)"
   ]
  },
  {
   "cell_type": "code",
   "execution_count": null,
   "id": "221187fb",
   "metadata": {},
   "outputs": [],
   "source": []
  }
 ],
 "metadata": {
  "kernelspec": {
   "display_name": "Python 3",
   "language": "python",
   "name": "python3"
  },
  "language_info": {
   "codemirror_mode": {
    "name": "ipython",
    "version": 3
   },
   "file_extension": ".py",
   "mimetype": "text/x-python",
   "name": "python",
   "nbconvert_exporter": "python",
   "pygments_lexer": "ipython3",
   "version": "3.8.8"
  }
 },
 "nbformat": 4,
 "nbformat_minor": 5
}
