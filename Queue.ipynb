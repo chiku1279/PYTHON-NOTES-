{
 "cells": [
  {
   "cell_type": "markdown",
   "id": "b676a8f3",
   "metadata": {},
   "source": [
    "# Queue is a linear Data structure whic works on FIFO First in first out Principal means which comes first will go out first it has two ends front and rear\n",
    "\n",
    "Ex- Movie tickit lIne"
   ]
  },
  {
   "cell_type": "markdown",
   "id": "9b24ca8f",
   "metadata": {},
   "source": [
    "The insertion is done from one end class nqueue and deletion is done from another end called dqueue"
   ]
  },
  {
   "cell_type": "markdown",
   "id": "d2b536e4",
   "metadata": {},
   "source": [
    "# Queue using List"
   ]
  },
  {
   "cell_type": "code",
   "execution_count": 7,
   "id": "28a509b4",
   "metadata": {},
   "outputs": [
    {
     "data": {
      "text/plain": [
       "20"
      ]
     },
     "execution_count": 7,
     "metadata": {},
     "output_type": "execute_result"
    }
   ],
   "source": [
    "queue=[]\n",
    "queue.append(10)\n",
    "queue.append(20)\n",
    "queue\n",
    "queue.pop(0)\n",
    "queue\n",
    "\n",
    "queue=[]\n",
    "queue.insert(0,10)\n",
    "queue.insert(1,20)\n",
    "queue.pop()"
   ]
  },
  {
   "cell_type": "markdown",
   "id": "5aae5f98",
   "metadata": {},
   "source": [
    "# Queue Implementation Using Classes"
   ]
  },
  {
   "cell_type": "code",
   "execution_count": 14,
   "id": "d093bfd3",
   "metadata": {},
   "outputs": [
    {
     "name": "stdout",
     "output_type": "stream",
     "text": [
      "10\n",
      "deque([30, 20])\n"
     ]
    }
   ],
   "source": [
    "import collections\n",
    "q=collections.deque()\n",
    "q.appendleft(10)\n",
    "q.appendleft(20)\n",
    "q.appendleft(30)\n",
    "print(q.pop())\n",
    "print(q)"
   ]
  },
  {
   "cell_type": "markdown",
   "id": "ca4ef407",
   "metadata": {},
   "source": [
    "# Priority Queue\n",
    "\n",
    "the data are poped off to queue according to their priority using list and deque method"
   ]
  },
  {
   "cell_type": "code",
   "execution_count": null,
   "id": "a5357783",
   "metadata": {},
   "outputs": [],
   "source": []
  }
 ],
 "metadata": {
  "kernelspec": {
   "display_name": "Python 3",
   "language": "python",
   "name": "python3"
  },
  "language_info": {
   "codemirror_mode": {
    "name": "ipython",
    "version": 3
   },
   "file_extension": ".py",
   "mimetype": "text/x-python",
   "name": "python",
   "nbconvert_exporter": "python",
   "pygments_lexer": "ipython3",
   "version": "3.8.8"
  }
 },
 "nbformat": 4,
 "nbformat_minor": 5
}
