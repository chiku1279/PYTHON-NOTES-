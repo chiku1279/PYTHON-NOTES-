{
 "cells": [
  {
   "cell_type": "markdown",
   "id": "0c9c9e82",
   "metadata": {},
   "source": [
    "# Linear Search"
   ]
  },
  {
   "cell_type": "code",
   "execution_count": 29,
   "id": "0475f078",
   "metadata": {},
   "outputs": [
    {
     "name": "stdout",
     "output_type": "stream",
     "text": [
      "7 Present at index 4\n"
     ]
    }
   ],
   "source": [
    "#using Two pointer approach\n",
    "\n",
    "l=[1,2,5,4,7,8,9,6]\n",
    "target =7\n",
    "a=0\n",
    "while a<=len(l)-1:\n",
    "    if l[a]==target:\n",
    "        print(target,\"Present at index\",l.index(l[a]))\n",
    "        break\n",
    "    else:\n",
    "        a+=1\n",
    "if target not in l:\n",
    "    print(\"Not Present\")\n",
    "\n",
    "    "
   ]
  },
  {
   "cell_type": "code",
   "execution_count": 34,
   "id": "b60120e9",
   "metadata": {},
   "outputs": [
    {
     "data": {
      "text/plain": [
       "2"
      ]
     },
     "execution_count": 34,
     "metadata": {},
     "output_type": "execute_result"
    }
   ],
   "source": [
    "#using two pointer\n",
    "\n",
    "def l_search():\n",
    "    l=0\n",
    "    r=len(a)-1\n",
    "    p=-1\n",
    "    for i in range(r):\n",
    "        if a[l]==target:\n",
    "            p=l\n",
    "            return p\n",
    "        else:\n",
    "            if a[r]==target:\n",
    "                p=r\n",
    "                return p\n",
    "            else:\n",
    "                l+=1\n",
    "                r-=1\n",
    "    if target not in a:\n",
    "        return -1\n",
    "a=[1,2,5,3,7]\n",
    "target=5\n",
    "l_search()"
   ]
  },
  {
   "cell_type": "code",
   "execution_count": 28,
   "id": "39fcdd53",
   "metadata": {},
   "outputs": [
    {
     "data": {
      "text/plain": [
       "('Element present at index', 6)"
      ]
     },
     "execution_count": 28,
     "metadata": {},
     "output_type": "execute_result"
    }
   ],
   "source": [
    "def linear_search(l,target):\n",
    "    for i in l:\n",
    "        if i==target:\n",
    "            return 'Element present at index',l.index(i)\n",
    "        else:\n",
    "            pass\n",
    "    if target not in l:\n",
    "        return -1\n",
    "l=[2,3,5,1,6,11,24]\n",
    "target=24\n",
    "linear_search(l,target)"
   ]
  },
  {
   "cell_type": "code",
   "execution_count": 40,
   "id": "59703554",
   "metadata": {},
   "outputs": [
    {
     "data": {
      "text/plain": [
       "2"
      ]
     },
     "execution_count": 40,
     "metadata": {},
     "output_type": "execute_result"
    }
   ],
   "source": [
    "#linear Search in String\n",
    "\n",
    "def linear_search_string(string,target):\n",
    "    if target in string:\n",
    "        return string.index(target)\n",
    "    return -1    \n",
    "string='chiku'\n",
    "target='i'\n",
    "linear_search_string(string,target)"
   ]
  },
  {
   "cell_type": "markdown",
   "id": "8ed2b809",
   "metadata": {},
   "source": [
    "# Binary search   : array must be sorted  \n",
    "\n",
    "Time Complexity: O(log n)\n",
    "\n",
    "Auxiliary Space: O(1)\n",
    "\n",
    "Algorithmic Paradigm: Decrease and Conquer."
   ]
  },
  {
   "cell_type": "code",
   "execution_count": 12,
   "id": "2e0fbb75",
   "metadata": {},
   "outputs": [
    {
     "name": "stdout",
     "output_type": "stream",
     "text": [
      "Element is present at index  3\n"
     ]
    }
   ],
   "source": [
    "def binarySearch(arr, l, r, target):\n",
    "    while l <= r:\n",
    "        mid = l + (r - l) // 2\n",
    "        \n",
    "        # Check if target  is present at mid\n",
    "        if arr[mid] == target:\n",
    "            return mid\n",
    "  \n",
    "        # If target is greater, ignore left half\n",
    "    \n",
    "        elif arr[mid] < target:\n",
    "            l = mid + 1\n",
    "  \n",
    "        # If target is smaller, ignore right half\n",
    "    \n",
    "        else:\n",
    "            r = mid - 1\n",
    "  \n",
    "    # If we reach here, then the element\n",
    "    # was not present\n",
    "    return -1\n",
    "  \n",
    "arr = [2, 3, 4, 10, 40]\n",
    "target= 10\n",
    "  \n",
    "# Function call\n",
    "\n",
    "result = binarySearch(arr, 0, len(arr)-1, target)\n",
    "  \n",
    "if result != -1:\n",
    "    print(\"Element is present at index % d\" % result)\n",
    "else:\n",
    "    print(\"Element is not present in array\")"
   ]
  },
  {
   "cell_type": "markdown",
   "id": "3772baa0",
   "metadata": {},
   "source": [
    "# Selection Sort Algorithm :-  in Place comparision Based algorithm\n",
    "\n",
    "Steps :-\n",
    "\n",
    "1- let a min value as first elemnt if any other then that then change min to that\n",
    "\n",
    "2- if get the min among all the swap the min to the 0th index of list"
   ]
  },
  {
   "cell_type": "code",
   "execution_count": 7,
   "id": "1362778d",
   "metadata": {},
   "outputs": [
    {
     "data": {
      "text/plain": [
       "[0, 1, 2, 3, 4, 6]"
      ]
     },
     "execution_count": 7,
     "metadata": {},
     "output_type": "execute_result"
    }
   ],
   "source": [
    "# When No dublicate elemnt\n",
    "\n",
    "def selection_sort(l):\n",
    "    for i in range(len(l)):\n",
    "        minimum=min(l[i:])         # each time minimum check using min() one index increment line 1-n,2-n,3-n...\n",
    "        minimum_index=l.index(minimum) \n",
    "        l[i],l[minimum_index]=l[minimum_index],l[i]\n",
    "    return l\n",
    "l=[4,2,3,6,1,0]\n",
    "selection_sort(l)\n",
    "        "
   ]
  },
  {
   "cell_type": "code",
   "execution_count": 11,
   "id": "705c563d",
   "metadata": {},
   "outputs": [
    {
     "name": "stdout",
     "output_type": "stream",
     "text": [
      "[1, 2, 3, 4, 4, 5, 6]\n"
     ]
    }
   ],
   "source": [
    "#When Dublicate Occur\n",
    "\n",
    "l=[2,4,3,6,1,5,4]\n",
    "for i in range(len(l)):\n",
    "    minimum=min(l[i:])\n",
    "    minimum_index=l.index(minimum,i)               #by addiding i we have to get index of  \n",
    "    l[i],l[minimum_index]=l[minimum_index],l[i]\n",
    "print(l)\n"
   ]
  },
  {
   "cell_type": "code",
   "execution_count": 4,
   "id": "4f63a7bb",
   "metadata": {},
   "outputs": [
    {
     "name": "stdout",
     "output_type": "stream",
     "text": [
      "[55, 9, 6, 4, 2, 1, 1, 0]\n"
     ]
    }
   ],
   "source": [
    "# In Descending Order\n",
    "\n",
    "l=[2,4,1,6,9,55,0,1]\n",
    "for i in range(len(l)):\n",
    "    maximum=max(l[i:])\n",
    "    maximum_index=l.index(maximum,i)\n",
    "    l[i],l[maximum_index]=l[maximum_index],l[i]\n",
    "print(l)"
   ]
  },
  {
   "cell_type": "markdown",
   "id": "19f64fd3",
   "metadata": {},
   "source": [
    "# Bubble Sort  :- Sinking sort\n",
    "    \n",
    "step :- check the elements from starting to its adjecent either smaller or bigger\n",
    "\n",
    "         if current elemnt is greater than adjcent then swap"
   ]
  },
  {
   "cell_type": "code",
   "execution_count": 39,
   "id": "6fa38c6d",
   "metadata": {},
   "outputs": [
    {
     "name": "stdout",
     "output_type": "stream",
     "text": [
      "[3, 4, 1, 6, 7, 0]\n",
      "[3, 1, 4, 6, 7, 0]\n",
      "[3, 1, 4, 6, 7, 0]\n",
      "[3, 1, 4, 6, 7, 0]\n",
      "[3, 1, 4, 6, 0, 7]\n",
      "\n",
      "[1, 3, 4, 6, 0, 7]\n",
      "[1, 3, 4, 6, 0, 7]\n",
      "[1, 3, 4, 6, 0, 7]\n",
      "[1, 3, 4, 0, 6, 7]\n",
      "\n",
      "[1, 3, 4, 0, 6, 7]\n",
      "[1, 3, 4, 0, 6, 7]\n",
      "[1, 3, 0, 4, 6, 7]\n",
      "\n",
      "[1, 3, 0, 4, 6, 7]\n",
      "[1, 0, 3, 4, 6, 7]\n",
      "\n",
      "[0, 1, 3, 4, 6, 7]\n",
      "\n"
     ]
    }
   ],
   "source": [
    "# TC -O(n^2)\n",
    "\n",
    "l=[3,4,1,6,7,0]\n",
    "n=0\n",
    "for j in range(len(l)-1):\n",
    "    for i in range(len(l)-1-j):                     # -j is used for not sort the sorted again n again\n",
    "        if l[i]>l[i+1]:\n",
    "            l[i],l[i+1]=l[i+1],l[i]\n",
    "        print(l)\n",
    "    print()"
   ]
  },
  {
   "cell_type": "markdown",
   "id": "3728e5a2",
   "metadata": {},
   "source": [
    "# Insertion Sort   It works as take first element as sorted part and rest of unsorted and matches one by one and push into sorted one"
   ]
  },
  {
   "cell_type": "code",
   "execution_count": 4,
   "id": "0a46ac0c",
   "metadata": {},
   "outputs": [
    {
     "name": "stdout",
     "output_type": "stream",
     "text": [
      "[1, 3, 3, 4, 6, 9]\n"
     ]
    }
   ],
   "source": [
    "def Insertion_sort(l):\n",
    "    for i in range(1,len(l)):                     #take loop from 1 index\n",
    "        curr=l[i]  \n",
    "        pos=i                                      #position of current element\n",
    "        while curr<l[pos-1] and pos>0:          #if right side value is greate thn left side than put swap and pos>0 for ou of while\n",
    "            l[pos]=l[pos-1] \n",
    "            pos-=1                             \n",
    "        l[pos]=curr\n",
    "        \n",
    "l=[4,6,1,3,9,3]\n",
    "Insertion_sort(l)\n",
    "print(l)"
   ]
  },
  {
   "cell_type": "markdown",
   "id": "d0a3cebb",
   "metadata": {},
   "source": [
    "# Quick Sort   Divide and Conqor based algo\n",
    "\n",
    "Steps :- First find the pivot elelemnt then make all element smaaler than pivot keep in left of pivot and larger in right of pivot\n",
    "\n",
    "Pivot element can be first , last ,any randon or the middle of three elemnet\n",
    "\n",
    "** if the list is sorted we cannt choose first and last as pivot\n",
    "\n",
    "**if we take last as pivot the we interchange left and pivot if choosef ifrst thn choose right and pivot swap\n",
    "\n",
    "               *********** Condition:- ************\n",
    "\n",
    "left<=right\n",
    "                  \n",
    "a[left]<=pivot\n",
    "                  \n",
    "a[right]>=pivot"
   ]
  },
  {
   "cell_type": "code",
   "execution_count": 54,
   "id": "ffc80fd7",
   "metadata": {},
   "outputs": [
    {
     "ename": "RecursionError",
     "evalue": "maximum recursion depth exceeded in comparison",
     "output_type": "error",
     "traceback": [
      "\u001b[1;31m---------------------------------------------------------------------------\u001b[0m",
      "\u001b[1;31mRecursionError\u001b[0m                            Traceback (most recent call last)",
      "\u001b[1;32m<ipython-input-54-b37039a02ea1>\u001b[0m in \u001b[0;36m<module>\u001b[1;34m\u001b[0m\n\u001b[0;32m     22\u001b[0m \u001b[0marr\u001b[0m\u001b[1;33m=\u001b[0m\u001b[1;33m[\u001b[0m\u001b[1;36m4\u001b[0m\u001b[1;33m,\u001b[0m\u001b[1;36m3\u001b[0m\u001b[1;33m,\u001b[0m\u001b[1;36m5\u001b[0m\u001b[1;33m,\u001b[0m\u001b[1;36m1\u001b[0m\u001b[1;33m,\u001b[0m\u001b[1;36m7\u001b[0m\u001b[1;33m,\u001b[0m\u001b[1;36m2\u001b[0m\u001b[1;33m]\u001b[0m\u001b[1;33m\u001b[0m\u001b[1;33m\u001b[0m\u001b[0m\n\u001b[0;32m     23\u001b[0m \u001b[0mn\u001b[0m\u001b[1;33m=\u001b[0m\u001b[0mlen\u001b[0m\u001b[1;33m(\u001b[0m\u001b[0marr\u001b[0m\u001b[1;33m)\u001b[0m\u001b[1;33m\u001b[0m\u001b[1;33m\u001b[0m\u001b[0m\n\u001b[1;32m---> 24\u001b[1;33m \u001b[0mpartition\u001b[0m\u001b[1;33m(\u001b[0m\u001b[0marr\u001b[0m\u001b[1;33m,\u001b[0m\u001b[1;36m0\u001b[0m\u001b[1;33m,\u001b[0m\u001b[0mn\u001b[0m\u001b[1;33m-\u001b[0m\u001b[1;36m1\u001b[0m\u001b[1;33m)\u001b[0m\u001b[1;33m\u001b[0m\u001b[1;33m\u001b[0m\u001b[0m\n\u001b[0m\u001b[0;32m     25\u001b[0m \u001b[0mprint\u001b[0m\u001b[1;33m(\u001b[0m\u001b[0marr\u001b[0m\u001b[1;33m)\u001b[0m\u001b[1;33m\u001b[0m\u001b[1;33m\u001b[0m\u001b[0m\n",
      "\u001b[1;32m<ipython-input-54-b37039a02ea1>\u001b[0m in \u001b[0;36mpartition\u001b[1;34m(arr, first, last)\u001b[0m\n\u001b[0;32m     17\u001b[0m     \u001b[1;32mif\u001b[0m \u001b[0mfirst\u001b[0m\u001b[1;33m<\u001b[0m\u001b[0mlast\u001b[0m\u001b[1;33m:\u001b[0m             \u001b[1;31m#if more than one elemnt in unsorted\u001b[0m\u001b[1;33m\u001b[0m\u001b[1;33m\u001b[0m\u001b[0m\n\u001b[0;32m     18\u001b[0m         \u001b[0mp\u001b[0m\u001b[1;33m=\u001b[0m\u001b[0mquick_sort\u001b[0m\u001b[1;33m(\u001b[0m\u001b[0marr\u001b[0m\u001b[1;33m,\u001b[0m\u001b[0mfirst\u001b[0m\u001b[1;33m,\u001b[0m\u001b[0mlast\u001b[0m\u001b[1;33m)\u001b[0m\u001b[1;33m\u001b[0m\u001b[1;33m\u001b[0m\u001b[0m\n\u001b[1;32m---> 19\u001b[1;33m         \u001b[0mpartition\u001b[0m\u001b[1;33m(\u001b[0m\u001b[0marr\u001b[0m\u001b[1;33m,\u001b[0m\u001b[0mfirst\u001b[0m\u001b[1;33m,\u001b[0m\u001b[0mp\u001b[0m\u001b[1;33m-\u001b[0m\u001b[1;36m1\u001b[0m\u001b[1;33m)\u001b[0m\u001b[1;33m\u001b[0m\u001b[1;33m\u001b[0m\u001b[0m\n\u001b[0m\u001b[0;32m     20\u001b[0m         \u001b[0mpartition\u001b[0m\u001b[1;33m(\u001b[0m\u001b[0marr\u001b[0m\u001b[1;33m,\u001b[0m\u001b[0mp\u001b[0m\u001b[1;33m+\u001b[0m\u001b[1;36m1\u001b[0m\u001b[1;33m,\u001b[0m\u001b[0mlast\u001b[0m\u001b[1;33m)\u001b[0m\u001b[1;33m\u001b[0m\u001b[1;33m\u001b[0m\u001b[0m\n\u001b[0;32m     21\u001b[0m \u001b[1;33m\u001b[0m\u001b[0m\n",
      "\u001b[1;32m<ipython-input-54-b37039a02ea1>\u001b[0m in \u001b[0;36mpartition\u001b[1;34m(arr, first, last)\u001b[0m\n\u001b[0;32m     18\u001b[0m         \u001b[0mp\u001b[0m\u001b[1;33m=\u001b[0m\u001b[0mquick_sort\u001b[0m\u001b[1;33m(\u001b[0m\u001b[0marr\u001b[0m\u001b[1;33m,\u001b[0m\u001b[0mfirst\u001b[0m\u001b[1;33m,\u001b[0m\u001b[0mlast\u001b[0m\u001b[1;33m)\u001b[0m\u001b[1;33m\u001b[0m\u001b[1;33m\u001b[0m\u001b[0m\n\u001b[0;32m     19\u001b[0m         \u001b[0mpartition\u001b[0m\u001b[1;33m(\u001b[0m\u001b[0marr\u001b[0m\u001b[1;33m,\u001b[0m\u001b[0mfirst\u001b[0m\u001b[1;33m,\u001b[0m\u001b[0mp\u001b[0m\u001b[1;33m-\u001b[0m\u001b[1;36m1\u001b[0m\u001b[1;33m)\u001b[0m\u001b[1;33m\u001b[0m\u001b[1;33m\u001b[0m\u001b[0m\n\u001b[1;32m---> 20\u001b[1;33m         \u001b[0mpartition\u001b[0m\u001b[1;33m(\u001b[0m\u001b[0marr\u001b[0m\u001b[1;33m,\u001b[0m\u001b[0mp\u001b[0m\u001b[1;33m+\u001b[0m\u001b[1;36m1\u001b[0m\u001b[1;33m,\u001b[0m\u001b[0mlast\u001b[0m\u001b[1;33m)\u001b[0m\u001b[1;33m\u001b[0m\u001b[1;33m\u001b[0m\u001b[0m\n\u001b[0m\u001b[0;32m     21\u001b[0m \u001b[1;33m\u001b[0m\u001b[0m\n\u001b[0;32m     22\u001b[0m \u001b[0marr\u001b[0m\u001b[1;33m=\u001b[0m\u001b[1;33m[\u001b[0m\u001b[1;36m4\u001b[0m\u001b[1;33m,\u001b[0m\u001b[1;36m3\u001b[0m\u001b[1;33m,\u001b[0m\u001b[1;36m5\u001b[0m\u001b[1;33m,\u001b[0m\u001b[1;36m1\u001b[0m\u001b[1;33m,\u001b[0m\u001b[1;36m7\u001b[0m\u001b[1;33m,\u001b[0m\u001b[1;36m2\u001b[0m\u001b[1;33m]\u001b[0m\u001b[1;33m\u001b[0m\u001b[1;33m\u001b[0m\u001b[0m\n",
      "\u001b[1;32m<ipython-input-54-b37039a02ea1>\u001b[0m in \u001b[0;36mpartition\u001b[1;34m(arr, first, last)\u001b[0m\n\u001b[0;32m     17\u001b[0m     \u001b[1;32mif\u001b[0m \u001b[0mfirst\u001b[0m\u001b[1;33m<\u001b[0m\u001b[0mlast\u001b[0m\u001b[1;33m:\u001b[0m             \u001b[1;31m#if more than one elemnt in unsorted\u001b[0m\u001b[1;33m\u001b[0m\u001b[1;33m\u001b[0m\u001b[0m\n\u001b[0;32m     18\u001b[0m         \u001b[0mp\u001b[0m\u001b[1;33m=\u001b[0m\u001b[0mquick_sort\u001b[0m\u001b[1;33m(\u001b[0m\u001b[0marr\u001b[0m\u001b[1;33m,\u001b[0m\u001b[0mfirst\u001b[0m\u001b[1;33m,\u001b[0m\u001b[0mlast\u001b[0m\u001b[1;33m)\u001b[0m\u001b[1;33m\u001b[0m\u001b[1;33m\u001b[0m\u001b[0m\n\u001b[1;32m---> 19\u001b[1;33m         \u001b[0mpartition\u001b[0m\u001b[1;33m(\u001b[0m\u001b[0marr\u001b[0m\u001b[1;33m,\u001b[0m\u001b[0mfirst\u001b[0m\u001b[1;33m,\u001b[0m\u001b[0mp\u001b[0m\u001b[1;33m-\u001b[0m\u001b[1;36m1\u001b[0m\u001b[1;33m)\u001b[0m\u001b[1;33m\u001b[0m\u001b[1;33m\u001b[0m\u001b[0m\n\u001b[0m\u001b[0;32m     20\u001b[0m         \u001b[0mpartition\u001b[0m\u001b[1;33m(\u001b[0m\u001b[0marr\u001b[0m\u001b[1;33m,\u001b[0m\u001b[0mp\u001b[0m\u001b[1;33m+\u001b[0m\u001b[1;36m1\u001b[0m\u001b[1;33m,\u001b[0m\u001b[0mlast\u001b[0m\u001b[1;33m)\u001b[0m\u001b[1;33m\u001b[0m\u001b[1;33m\u001b[0m\u001b[0m\n\u001b[0;32m     21\u001b[0m \u001b[1;33m\u001b[0m\u001b[0m\n",
      "... last 1 frames repeated, from the frame below ...\n",
      "\u001b[1;32m<ipython-input-54-b37039a02ea1>\u001b[0m in \u001b[0;36mpartition\u001b[1;34m(arr, first, last)\u001b[0m\n\u001b[0;32m     17\u001b[0m     \u001b[1;32mif\u001b[0m \u001b[0mfirst\u001b[0m\u001b[1;33m<\u001b[0m\u001b[0mlast\u001b[0m\u001b[1;33m:\u001b[0m             \u001b[1;31m#if more than one elemnt in unsorted\u001b[0m\u001b[1;33m\u001b[0m\u001b[1;33m\u001b[0m\u001b[0m\n\u001b[0;32m     18\u001b[0m         \u001b[0mp\u001b[0m\u001b[1;33m=\u001b[0m\u001b[0mquick_sort\u001b[0m\u001b[1;33m(\u001b[0m\u001b[0marr\u001b[0m\u001b[1;33m,\u001b[0m\u001b[0mfirst\u001b[0m\u001b[1;33m,\u001b[0m\u001b[0mlast\u001b[0m\u001b[1;33m)\u001b[0m\u001b[1;33m\u001b[0m\u001b[1;33m\u001b[0m\u001b[0m\n\u001b[1;32m---> 19\u001b[1;33m         \u001b[0mpartition\u001b[0m\u001b[1;33m(\u001b[0m\u001b[0marr\u001b[0m\u001b[1;33m,\u001b[0m\u001b[0mfirst\u001b[0m\u001b[1;33m,\u001b[0m\u001b[0mp\u001b[0m\u001b[1;33m-\u001b[0m\u001b[1;36m1\u001b[0m\u001b[1;33m)\u001b[0m\u001b[1;33m\u001b[0m\u001b[1;33m\u001b[0m\u001b[0m\n\u001b[0m\u001b[0;32m     20\u001b[0m         \u001b[0mpartition\u001b[0m\u001b[1;33m(\u001b[0m\u001b[0marr\u001b[0m\u001b[1;33m,\u001b[0m\u001b[0mp\u001b[0m\u001b[1;33m+\u001b[0m\u001b[1;36m1\u001b[0m\u001b[1;33m,\u001b[0m\u001b[0mlast\u001b[0m\u001b[1;33m)\u001b[0m\u001b[1;33m\u001b[0m\u001b[1;33m\u001b[0m\u001b[0m\n\u001b[0;32m     21\u001b[0m \u001b[1;33m\u001b[0m\u001b[0m\n",
      "\u001b[1;31mRecursionError\u001b[0m: maximum recursion depth exceeded in comparison"
     ]
    }
   ],
   "source": [
    "def quick_sort(arr,first,last):\n",
    "    left=first+1\n",
    "    right=last\n",
    "    pivot=arr[last]\n",
    "    while True:\n",
    "        while arr[left]>=pivot and left<=right:\n",
    "            left+=1\n",
    "        while arr[right]<=pivot and left<=right:\n",
    "            right-=1\n",
    "        if right<left:       #if both cond is false then break\n",
    "            break\n",
    "        else:\n",
    "            arr[left],arr[right]=arr[right],arr[left]        \n",
    "    arr[last],arr[left]=arr[left],arr[last]\n",
    "    return left\n",
    "def partition(arr,first,last):\n",
    "    if first<last:             #if more than one elemnt in unsorted \n",
    "        p=quick_sort(arr,first,last)\n",
    "        partition(arr,first,p-1)\n",
    "        partition(arr,p+1,last)\n",
    "        \n",
    "arr=[4,3,5,1,7,2]\n",
    "n=len(arr)\n",
    "partition(arr,0,n-1)\n",
    "print(arr)"
   ]
  },
  {
   "cell_type": "code",
   "execution_count": null,
   "id": "356e9a37",
   "metadata": {},
   "outputs": [],
   "source": []
  }
 ],
 "metadata": {
  "kernelspec": {
   "display_name": "Python 3",
   "language": "python",
   "name": "python3"
  },
  "language_info": {
   "codemirror_mode": {
    "name": "ipython",
    "version": 3
   },
   "file_extension": ".py",
   "mimetype": "text/x-python",
   "name": "python",
   "nbconvert_exporter": "python",
   "pygments_lexer": "ipython3",
   "version": "3.8.8"
  }
 },
 "nbformat": 4,
 "nbformat_minor": 5
}
