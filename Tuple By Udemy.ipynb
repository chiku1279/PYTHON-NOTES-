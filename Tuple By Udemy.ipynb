{
 "cells": [
  {
   "cell_type": "markdown",
   "id": "4ec416c6",
   "metadata": {},
   "source": [
    "# A tuple is a Immutable(The value will not change after creation) sequence of python object"
   ]
  },
  {
   "cell_type": "markdown",
   "id": "4abe5f1a",
   "metadata": {},
   "source": [
    "\n",
    "# Creating a Tuple"
   ]
  },
  {
   "cell_type": "code",
   "execution_count": 9,
   "id": "3754c206",
   "metadata": {},
   "outputs": [
    {
     "name": "stdout",
     "output_type": "stream",
     "text": [
      "(1, 2, 3, 4)\n",
      "<class 'tuple'>\n",
      "('c', 'h', 'i', 'k', 'u')\n"
     ]
    }
   ],
   "source": [
    "t=1,2,3,4                      #It is not mandatory to put parenthesis\n",
    "print(t)\n",
    "print(type(t))\n",
    "a='chiku'\n",
    "print(tuple(a))"
   ]
  },
  {
   "cell_type": "markdown",
   "id": "eb307219",
   "metadata": {},
   "source": [
    "# Diffence between tuple and integer"
   ]
  },
  {
   "cell_type": "code",
   "execution_count": 15,
   "id": "6fcf8e7d",
   "metadata": {},
   "outputs": [
    {
     "name": "stdout",
     "output_type": "stream",
     "text": [
      "1\n",
      "<class 'int'>\n",
      "(1,)\n",
      "<class 'tuple'>\n"
     ]
    }
   ],
   "source": [
    "t=(1)\n",
    "print(t)\n",
    "print(type(t))\n",
    "t=(1,)\n",
    "print(t)\n",
    "print(type(t))"
   ]
  },
  {
   "cell_type": "markdown",
   "id": "e829201f",
   "metadata": {},
   "source": [
    "# Immutable\n",
    "\n",
    "'tuple' object does not support item assignment"
   ]
  },
  {
   "cell_type": "code",
   "execution_count": 14,
   "id": "e2c8da90",
   "metadata": {},
   "outputs": [
    {
     "ename": "TypeError",
     "evalue": "'tuple' object does not support item assignment",
     "output_type": "error",
     "traceback": [
      "\u001b[1;31m---------------------------------------------------------------------------\u001b[0m",
      "\u001b[1;31mTypeError\u001b[0m                                 Traceback (most recent call last)",
      "\u001b[1;32m<ipython-input-14-e4383bd1c683>\u001b[0m in \u001b[0;36m<module>\u001b[1;34m\u001b[0m\n\u001b[0;32m      2\u001b[0m \u001b[1;33m\u001b[0m\u001b[0m\n\u001b[0;32m      3\u001b[0m \u001b[0mt\u001b[0m\u001b[1;33m=\u001b[0m\u001b[1;33m(\u001b[0m\u001b[1;36m1\u001b[0m\u001b[1;33m,\u001b[0m\u001b[1;36m2\u001b[0m\u001b[1;33m,\u001b[0m\u001b[1;36m3\u001b[0m\u001b[1;33m,\u001b[0m\u001b[1;36m4\u001b[0m\u001b[1;33m)\u001b[0m\u001b[1;33m\u001b[0m\u001b[1;33m\u001b[0m\u001b[0m\n\u001b[1;32m----> 4\u001b[1;33m \u001b[0mt\u001b[0m\u001b[1;33m[\u001b[0m\u001b[1;36m1\u001b[0m\u001b[1;33m]\u001b[0m\u001b[1;33m=\u001b[0m\u001b[1;36m2\u001b[0m\u001b[1;33m\u001b[0m\u001b[1;33m\u001b[0m\u001b[0m\n\u001b[0m\u001b[0;32m      5\u001b[0m \u001b[0mprint\u001b[0m\u001b[1;33m(\u001b[0m\u001b[0mt\u001b[0m\u001b[1;33m)\u001b[0m\u001b[1;33m\u001b[0m\u001b[1;33m\u001b[0m\u001b[0m\n",
      "\u001b[1;31mTypeError\u001b[0m: 'tuple' object does not support item assignment"
     ]
    }
   ],
   "source": [
    "#'tuple' object does not support item assignment\n",
    "\n",
    "t=(1,2,3,4)\n",
    "t[1]=2\n",
    "print(t)"
   ]
  },
  {
   "cell_type": "code",
   "execution_count": 19,
   "id": "3ea57224",
   "metadata": {},
   "outputs": [
    {
     "data": {
      "text/plain": [
       "-1"
      ]
     },
     "execution_count": 19,
     "metadata": {},
     "output_type": "execute_result"
    }
   ],
   "source": [
    "#search an element in tuple\n",
    "\n",
    "t=(1,4,3,2,5)\n",
    "def search(t,target):\n",
    "    for i in t:\n",
    "        if i==target:\n",
    "            return t.index(i)\n",
    "    return -1\n",
    "search(t,9)"
   ]
  },
  {
   "cell_type": "markdown",
   "id": "70fa9255",
   "metadata": {},
   "source": [
    "# Tuple VS List"
   ]
  },
  {
   "cell_type": "markdown",
   "id": "d2932d17",
   "metadata": {},
   "source": [
    "1 :- In tuple We Cn't make changes after intilization of tuple\n",
    "    \n",
    "2 :- Changes is not possible in Single element but in whole tuple it is possible\n",
    "    \n",
    "3 :- Cann't delete a single element but whole tuple can delete"
   ]
  },
  {
   "cell_type": "code",
   "execution_count": 26,
   "id": "5d431441",
   "metadata": {},
   "outputs": [
    {
     "name": "stdout",
     "output_type": "stream",
     "text": [
      "(1, 2, 3, 4, 5)\n",
      "(5, 4, 3, 2, 1)\n"
     ]
    },
    {
     "ename": "NameError",
     "evalue": "name 't' is not defined",
     "output_type": "error",
     "traceback": [
      "\u001b[1;31m---------------------------------------------------------------------------\u001b[0m",
      "\u001b[1;31mNameError\u001b[0m                                 Traceback (most recent call last)",
      "\u001b[1;32m<ipython-input-26-91791595363a>\u001b[0m in \u001b[0;36m<module>\u001b[1;34m\u001b[0m\n\u001b[0;32m      6\u001b[0m \u001b[1;31m#del t[2]\u001b[0m\u001b[1;33m\u001b[0m\u001b[1;33m\u001b[0m\u001b[1;33m\u001b[0m\u001b[0m\n\u001b[0;32m      7\u001b[0m \u001b[1;32mdel\u001b[0m \u001b[0mt\u001b[0m\u001b[1;33m\u001b[0m\u001b[1;33m\u001b[0m\u001b[0m\n\u001b[1;32m----> 8\u001b[1;33m \u001b[0mprint\u001b[0m\u001b[1;33m(\u001b[0m\u001b[0mt\u001b[0m\u001b[1;33m)\u001b[0m\u001b[1;33m\u001b[0m\u001b[1;33m\u001b[0m\u001b[0m\n\u001b[0m",
      "\u001b[1;31mNameError\u001b[0m: name 't' is not defined"
     ]
    }
   ],
   "source": [
    "t=(1,2,3,4,5)\n",
    "#t[0]=0\n",
    "print(t)\n",
    "t=(5,4,3,2,1)\n",
    "print(t)\n",
    "#del t[2]\n",
    "del t\n",
    "print(t)              #name 't' is not defined\n"
   ]
  },
  {
   "cell_type": "code",
   "execution_count": 28,
   "id": "4ac512cc",
   "metadata": {},
   "outputs": [],
   "source": [
    "#                    Tuple                List\n",
    "\n",
    "#append()        |      No           |        Yes\n",
    "#insert()        |      NO           |        Yes\n",
    "#remove()        |      NO           |        Yes\n",
    "#pop()           |      NO           |        Yes\n",
    "#clear()         |      NO           |        Yes\n",
    "#sort()          |      NO           |        Yes\n",
    "#reverse()       |      NO           |        Yes\n",
    "#count()         |      Yes          |        Yes\n",
    "#index()         |      Yes          |        Yes"
   ]
  },
  {
   "cell_type": "code",
   "execution_count": null,
   "id": "b1c86cdb",
   "metadata": {},
   "outputs": [],
   "source": []
  }
 ],
 "metadata": {
  "kernelspec": {
   "display_name": "Python 3",
   "language": "python",
   "name": "python3"
  },
  "language_info": {
   "codemirror_mode": {
    "name": "ipython",
    "version": 3
   },
   "file_extension": ".py",
   "mimetype": "text/x-python",
   "name": "python",
   "nbconvert_exporter": "python",
   "pygments_lexer": "ipython3",
   "version": "3.8.8"
  }
 },
 "nbformat": 4,
 "nbformat_minor": 5
}
