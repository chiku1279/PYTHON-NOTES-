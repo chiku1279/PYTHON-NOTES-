{
 "cells": [
  {
   "cell_type": "markdown",
   "id": "5286f93e",
   "metadata": {},
   "source": [
    "# Stack is a Data Structure that stores Items on Last In First Out--LIFO Manner or FILO -- First in last out\n",
    "\n",
    "Ex-- Plate in a Kitchen\n",
    "\n",
    "Searching many website ( google--facebook--amazon--udemy)  to reach start from google to udemy to reach google we back to udemy-amazon.."
   ]
  },
  {
   "cell_type": "markdown",
   "id": "badec7a8",
   "metadata": {},
   "source": [
    "# Implimentation of stack in Python\n",
    "\n",
    "                 --------In Python Stack is Implimented by three Ways --------\n",
    "            \n",
    "                                    using List\n",
    "                    \n",
    "                                    using deque\n",
    "                     \n",
    "                                    using LifoQueue"
   ]
  },
  {
   "cell_type": "markdown",
   "id": "a1964649",
   "metadata": {},
   "source": [
    "# Implimentation Through  List\n",
    "\n",
    "Problem while creating using list is slow while stack is large"
   ]
  },
  {
   "cell_type": "code",
   "execution_count": 4,
   "id": "fc38e700",
   "metadata": {},
   "outputs": [
    {
     "name": "stdout",
     "output_type": "stream",
     "text": [
      "After PUSH: [1, 2, 3, 4, 5]\n",
      "After POP [1, 2, 3]\n"
     ]
    }
   ],
   "source": [
    "l=[]\n",
    "l.append(1)                #bcz append() add data in next fallowed or next to TOP\n",
    "l.append(2)\n",
    "l.append(3)\n",
    "l.append(4)\n",
    "l.append(5)\n",
    "print(\"After PUSH:\",l)\n",
    "l.pop()                       #bcz POP() remove element from last / TOP\n",
    "l.pop()\n",
    "print(\"After POP\",l)"
   ]
  },
  {
   "cell_type": "code",
   "execution_count": 9,
   "id": "e8b19303",
   "metadata": {},
   "outputs": [
    {
     "name": "stdout",
     "output_type": "stream",
     "text": [
      "True\n",
      "3\n",
      "2\n",
      "1\n",
      "Peek /Top: 1\n"
     ]
    }
   ],
   "source": [
    "\n",
    "class Stack:\n",
    "    def __init__(self):\n",
    "        self.list = []\n",
    "    \n",
    "    def __str__(self):\n",
    "        values = self.list.reverse()\n",
    "        values = [str(x) for x in self.list]\n",
    "        return '\\n'.join(values)\n",
    "    \n",
    "    # isEmpty\n",
    "    def isEmpty(self):\n",
    "        if self.list == []:\n",
    "            return True\n",
    "        else:\n",
    "            return False\n",
    "    # push\n",
    "    def push(self, value):\n",
    "        self.list.append(value)\n",
    "        return \"The element has been successfully inserted\"\n",
    "\n",
    "    # pop\n",
    "    def pop(self):\n",
    "        if self.isEmpty():\n",
    "            return \"There is not any element in the stack\"\n",
    "        else:\n",
    "            return self.list.pop()\n",
    "    \n",
    "    # peek\n",
    "    def peek(self):\n",
    "        if self.isEmpty():\n",
    "            return \"There is not any element in the stack\"\n",
    "        else:\n",
    "            return self.list[len(self.list)-1]\n",
    "    \n",
    "    # delete\n",
    "    def delete(self):\n",
    "        self.list = None\n",
    "\n",
    "\n",
    "\n",
    "\n",
    "customStack = Stack()\n",
    "print(customStack.isEmpty())\n",
    "customStack.push(1)\n",
    "customStack.push(2)\n",
    "customStack.push(3)\n",
    "print(customStack)\n",
    "print(\"Peek /Top:\",customStack.peek())\n"
   ]
  },
  {
   "cell_type": "markdown",
   "id": "59df8d69",
   "metadata": {},
   "source": [
    "# Operation used in Stack\n",
    "\n",
    "1 :- PUSH - Insert an element in stack\n",
    "    \n",
    "2 :- POP - Delete an elemnt from stack\n",
    "    \n",
    "3 :- PEEK / TOP :- Gives the top element\n",
    "        \n",
    "4 :- isempty :- Gives is stack is empty or not"
   ]
  },
  {
   "cell_type": "markdown",
   "id": "f6e575ad",
   "metadata": {},
   "source": [
    "# Implimentation of stack using LIST"
   ]
  },
  {
   "cell_type": "code",
   "execution_count": 12,
   "id": "1f73f841",
   "metadata": {},
   "outputs": [
    {
     "name": "stdout",
     "output_type": "stream",
     "text": [
      "Enter your choice 1-Push , 2-Pop,3-top,4-exit\n",
      "1\n",
      "2\n",
      "[2]\n",
      "Enter your choice 1-Push , 2-Pop,3-top,4-exit\n",
      "1\n",
      "5\n",
      "[2, 5]\n",
      "Enter your choice 1-Push , 2-Pop,3-top,4-exit\n",
      "1\n",
      "6\n",
      "[2, 5, 6]\n",
      "Enter your choice 1-Push , 2-Pop,3-top,4-exit\n",
      "2\n",
      "[2, 5]\n",
      "Enter your choice 1-Push , 2-Pop,3-top,4-exit\n",
      "2\n",
      "[2]\n",
      "Enter your choice 1-Push , 2-Pop,3-top,4-exit\n",
      "1\n",
      "8\n",
      "[2, 8]\n",
      "Enter your choice 1-Push , 2-Pop,3-top,4-exit\n",
      "3\n",
      "8\n",
      "Enter your choice 1-Push , 2-Pop,3-top,4-exit\n",
      "4\n"
     ]
    }
   ],
   "source": [
    "stack=[]\n",
    "def push():\n",
    "    element=int(input())\n",
    "    stack.append(element)\n",
    "    print(stack)\n",
    "\n",
    "def pop():\n",
    "    if len(stack)==0:\n",
    "        print(\"stack is empty\")\n",
    "    else:\n",
    "        stack.pop()\n",
    "        print(stack)\n",
    "def top():\n",
    "    if len(stack)==0:\n",
    "        print(\"stack is empty\")\n",
    "    else:\n",
    "        print(stack[-1])\n",
    "    \n",
    "while True:\n",
    "    print(\"Enter your choice 1-Push , 2-Pop,3-top,4-exit\")\n",
    "    choice=int(input())\n",
    "    if choice==1:\n",
    "        push()\n",
    "    elif choice==2:\n",
    "        pop()\n",
    "    elif choice==3:\n",
    "        top()\n",
    "    elif choice==4:\n",
    "        break\n",
    "    else:\n",
    "        print(\"Wrong choice\")"
   ]
  },
  {
   "cell_type": "markdown",
   "id": "9db01413",
   "metadata": {},
   "source": [
    "# Implimentation Of Stack Using Method- deque"
   ]
  },
  {
   "cell_type": "code",
   "execution_count": 24,
   "id": "0612e500",
   "metadata": {},
   "outputs": [
    {
     "name": "stdout",
     "output_type": "stream",
     "text": [
      "deque([10, 20, 30])\n",
      "deque([10, 20])\n",
      "Stack top 20\n"
     ]
    }
   ],
   "source": [
    "import collections\n",
    "stack=collections.deque()\n",
    "stack.append(10)\n",
    "stack.append(20)\n",
    "stack.append(30)\n",
    "print(stack)\n",
    "stack.pop()\n",
    "print(stack)\n",
    "print(\"Stack top\",stack[-1])"
   ]
  },
  {
   "cell_type": "markdown",
   "id": "df16a763",
   "metadata": {},
   "source": [
    "# Implimentaion Using Lifoqueue Method"
   ]
  },
  {
   "cell_type": "code",
   "execution_count": 3,
   "id": "7378d04c",
   "metadata": {},
   "outputs": [
    {
     "name": "stdout",
     "output_type": "stream",
     "text": [
      "30\n"
     ]
    }
   ],
   "source": [
    "from queue import LifoQueue\n",
    "stack=LifoQueue()\n",
    "stack.put(10)\n",
    "stack.put(20)              #in push it shows <queue.LifoQueue object at 0x000002928B0037F0>\n",
    "stack.put(30)\n",
    "print(stack.get())           #using get() we can pop the top elemnet"
   ]
  },
  {
   "cell_type": "markdown",
   "id": "bdd5358d",
   "metadata": {},
   "source": [
    "# Implimentation of Stack using Linkedlist"
   ]
  },
  {
   "cell_type": "code",
   "execution_count": 67,
   "id": "e7b0181d",
   "metadata": {},
   "outputs": [
    {
     "name": "stdout",
     "output_type": "stream",
     "text": [
      "20\n",
      "10\n"
     ]
    }
   ],
   "source": [
    "class Node:\n",
    "    def __init__(self,data):\n",
    "        self.data=data\n",
    "        self.next=next\n",
    "class Stacklist:\n",
    "    def __init__(self):\n",
    "        self.head=None\n",
    "        self.size=0\n",
    "    \n",
    "    def getsize(self):\n",
    "        return self.size\n",
    "    \n",
    "    def isempty(self):\n",
    "        return self.size==0\n",
    "    \n",
    "    def push(self,data):\n",
    "        new=Node(data)\n",
    "        new.next=self.head\n",
    "        self.head=new\n",
    "        self.size+=1\n",
    "        \n",
    "    def pop(self):\n",
    "        if self.size==0:\n",
    "            print(\"Epty\")\n",
    "        else:\n",
    "            result=self.head.data\n",
    "            self.head=self.head.next\n",
    "            \n",
    "    def print_ll(self):\n",
    "        if self.head==None:\n",
    "            print(\"Empty !\")\n",
    "        else:\n",
    "            while self.head:\n",
    "                print(self.head.data)\n",
    "                self.head=self.head.next\n",
    "        \n",
    "    \n",
    "            \n",
    "    \n",
    "            \n",
    "l=Stacklist()\n",
    "l.push(10)\n",
    "l.push(20)\n",
    "\n",
    "l.print_ll()\n"
   ]
  },
  {
   "cell_type": "markdown",
   "id": "95f25bf5",
   "metadata": {},
   "source": [
    "# Check Valid Parenthesis\n",
    "\n",
    "each opening parenthesis has their eack closing prantheis"
   ]
  },
  {
   "cell_type": "code",
   "execution_count": 7,
   "id": "74d05810",
   "metadata": {},
   "outputs": [
    {
     "name": "stdout",
     "output_type": "stream",
     "text": [
      "([)]\n"
     ]
    },
    {
     "data": {
      "text/plain": [
       "False"
      ]
     },
     "execution_count": 7,
     "metadata": {},
     "output_type": "execute_result"
    }
   ],
   "source": [
    "def valid(exp):\n",
    "    stack=[]\n",
    "    for i in exp:\n",
    "        if i in ['(','{','[']:                # to put all openeing parenthesi in stack\n",
    "            stack.append(i)\n",
    "        else:                                \n",
    "            if not stack:                              #to check if stack empty\n",
    "                return False\n",
    "            else:\n",
    "                curr=stack.pop()                 #store the closing of at the top of stack\n",
    "                if curr=='(': \n",
    "                    if i!=')':                   # check if the top of stack i,e opening par is equal to first closing or not \n",
    "                        return False\n",
    "                if curr=='[':\n",
    "                    if i!=']':\n",
    "                        return False\n",
    "                if curr=='{':\n",
    "                    if i!='}':\n",
    "                        return False\n",
    "    if stack:\n",
    "        return False            #after each pairs check is stack is empty or not if not taht means extra parent return True\n",
    "    else:\n",
    "        return True           #if there is no left parenthis\n",
    "exp=input()\n",
    "valid(exp)"
   ]
  },
  {
   "cell_type": "markdown",
   "id": "95c8e2ed",
   "metadata": {},
   "source": [
    "# Get Minimum of the Stack"
   ]
  },
  {
   "cell_type": "code",
   "execution_count": 1,
   "id": "d310025c",
   "metadata": {},
   "outputs": [
    {
     "name": "stdout",
     "output_type": "stream",
     "text": [
      "Enter number of elemnts you want to insert3\n",
      "1\n",
      "2\n",
      "3\n",
      "deque([1, 2, 3])\n"
     ]
    }
   ],
   "source": [
    "import collections\n",
    "stack=collections.deque()\n",
    "n=int(input(\"Enter number of elemnts you want to insert\"))\n",
    "for i in range(n):\n",
    "    a=int(input())\n",
    "    stack.append(a)\n",
    "print(stack)\n"
   ]
  },
  {
   "cell_type": "markdown",
   "id": "b651ab05",
   "metadata": {},
   "source": [
    "# Longest Valif parenthesis"
   ]
  },
  {
   "cell_type": "code",
   "execution_count": 77,
   "id": "eac5c29f",
   "metadata": {},
   "outputs": [],
   "source": [
    "class Solution:\n",
    "    def ss(self, s: str) -> int:\n",
    "        stack=[0,]\n",
    "        c=0\n",
    "        for i in s:\n",
    "            if i=='(':\n",
    "                stack.append(0)\n",
    "            else:\n",
    "                if len(stack)>1:\n",
    "                    val=stack.pop()\n",
    "                    stack[-1]+=val+2 \n",
    "                    c=max(c,stack[-1])\n",
    "                else:\n",
    "                    stack=[0]\n",
    "        return c\n",
    "      "
   ]
  },
  {
   "cell_type": "markdown",
   "id": "9ea1f18b",
   "metadata": {},
   "source": [
    "# Inorder Traversal"
   ]
  },
  {
   "cell_type": "code",
   "execution_count": null,
   "id": "483cfae0",
   "metadata": {},
   "outputs": [],
   "source": [
    "# Definition for a binary tree node.\n",
    "# class TreeNode:\n",
    "#     def __init__(self, val=0, left=None, right=None):\n",
    "#         self.val = val\n",
    "#         self.left = left\n",
    "#         self.right = right\n",
    "class Solution:\n",
    "    def inorderTraversal(self, root: Optional[TreeNode]) -> List[int]:\n",
    "        stack=[]\n",
    "        def tra(node):\n",
    "            if node==None:\n",
    "                return\n",
    "            tra(node.left)\n",
    "            stack.append(node.val)\n",
    "            tra(node.right)\n",
    "        tra(root)\n",
    "        return stack"
   ]
  },
  {
   "cell_type": "code",
   "execution_count": 81,
   "id": "edb0c8c9",
   "metadata": {},
   "outputs": [],
   "source": [
    "class treenode:\n",
    "    def __init__(self,data):\n",
    "        self.data=0\n",
    "        self.left=None\n",
    "        self.right=None\n",
    "class tree:\n",
    "    def inorder(self,root):\n",
    "        self.heaf=None\n",
    "    def inor(self):\n",
    "        stack=[]\n",
    "        def sol(node):\n",
    "            if node==None:\n",
    "                return\n",
    "            else:\n",
    "                sol(node.left)\n",
    "                stack.append(node.data)\n",
    "                sol(node.right)\n",
    "        sol(root)\n",
    "        return stack\n",
    "l=tree()\n",
    "l.inorder(1)"
   ]
  },
  {
   "cell_type": "code",
   "execution_count": null,
   "id": "3c7c6142",
   "metadata": {},
   "outputs": [],
   "source": []
  }
 ],
 "metadata": {
  "kernelspec": {
   "display_name": "Python 3",
   "language": "python",
   "name": "python3"
  },
  "language_info": {
   "codemirror_mode": {
    "name": "ipython",
    "version": 3
   },
   "file_extension": ".py",
   "mimetype": "text/x-python",
   "name": "python",
   "nbconvert_exporter": "python",
   "pygments_lexer": "ipython3",
   "version": "3.8.8"
  }
 },
 "nbformat": 4,
 "nbformat_minor": 5
}
